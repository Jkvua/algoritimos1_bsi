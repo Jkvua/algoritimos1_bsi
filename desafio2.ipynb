{
  "nbformat": 4,
  "nbformat_minor": 0,
  "metadata": {
    "colab": {
      "provenance": [],
      "authorship_tag": "ABX9TyON0piCLYimqjwQ99VkbBXV",
      "include_colab_link": true
    },
    "kernelspec": {
      "name": "python3",
      "display_name": "Python 3"
    },
    "language_info": {
      "name": "python"
    }
  },
  "cells": [
    {
      "cell_type": "markdown",
      "metadata": {
        "id": "view-in-github",
        "colab_type": "text"
      },
      "source": [
        "<a href=\"https://colab.research.google.com/github/Jkvua/pythonlist/blob/main/desafio2.ipynb\" target=\"_parent\"><img src=\"https://colab.research.google.com/assets/colab-badge.svg\" alt=\"Open In Colab\"/></a>"
      ]
    },
    {
      "cell_type": "markdown",
      "source": [
        "1-"
      ],
      "metadata": {
        "id": "Vj14SnkV-Cnj"
      }
    },
    {
      "cell_type": "code",
      "execution_count": null,
      "metadata": {
        "id": "KT309GBdyEhK"
      },
      "outputs": [],
      "source": [
        "print(\"Alo Mundo!\")"
      ]
    },
    {
      "cell_type": "markdown",
      "source": [
        "2-"
      ],
      "metadata": {
        "id": "X6trqtzc-T1o"
      }
    },
    {
      "cell_type": "code",
      "source": [
        "nun = float(input(\"Digite um numero \"))\n",
        "print(\"\")\n",
        "print(\"O numero informado foi\", nun)"
      ],
      "metadata": {
        "id": "JkzTEGoV-Vbg"
      },
      "execution_count": null,
      "outputs": []
    },
    {
      "cell_type": "markdown",
      "source": [
        "3-"
      ],
      "metadata": {
        "id": "5EBOVZGY_YCX"
      }
    },
    {
      "cell_type": "code",
      "source": [
        "num1 = float(input(\"Digite um numero \"))\n",
        "num2 = float(input(\"Digite outro numero \"))\n",
        "soma = (num1 + num2)\n",
        "print(\"\")\n",
        "print(\"A soma desses numeros é\", soma)"
      ],
      "metadata": {
        "id": "MFWuBkbz_ZYV"
      },
      "execution_count": null,
      "outputs": []
    },
    {
      "cell_type": "markdown",
      "source": [
        "4-"
      ],
      "metadata": {
        "id": "s3vepy5e_47B"
      }
    },
    {
      "cell_type": "code",
      "source": [
        "not1 = float(input(\"Digite sua primeira nota \"))\n",
        "not2 = float(input(\"Digite sua segunda nota \"))\n",
        "not3 = float(input(\"Digite sua terceira nota \"))\n",
        "not4 = float(input(\"Digite sua quarta nota \"))\n",
        "media = ((not1+not2+not3+not4) / 4)\n",
        "print(\"\")\n",
        "print(\"Sua média é\", media)"
      ],
      "metadata": {
        "colab": {
          "base_uri": "https://localhost:8080/"
        },
        "id": "qKc_CpRT_6DK",
        "outputId": "6ce75648-8de7-41df-abae-b3c0e9830f35"
      },
      "execution_count": null,
      "outputs": [
        {
          "output_type": "stream",
          "name": "stdout",
          "text": [
            "Digite sua primeira nota 7\n",
            "Digite sua segunda nota 7\n",
            "Digite sua terceira nota 7\n",
            "Digite sua quarta nota 7\n",
            "\n",
            "Sua média é 7.0\n"
          ]
        }
      ]
    },
    {
      "cell_type": "markdown",
      "source": [
        "As perguntas 5,6,7 já foram respondidas antes em outras listas"
      ],
      "metadata": {
        "id": "u4a1gI_NBEQG"
      }
    },
    {
      "cell_type": "markdown",
      "source": [
        "8-"
      ],
      "metadata": {
        "id": "WX6LEZK7B5S3"
      }
    },
    {
      "cell_type": "code",
      "source": [
        "ganho = float(input(\"Informe quanto ganha por hora \"))\n",
        "tempo = float(input(\"Informe as horas trabalhadas por mês \"))\n",
        "salario = (ganho * tempo)\n",
        "print(\"\")\n",
        "print(\"Seu salario por mês é\", salario)\n"
      ],
      "metadata": {
        "id": "uZsFk1xcB6ge"
      },
      "execution_count": null,
      "outputs": []
    },
    {
      "cell_type": "markdown",
      "source": [
        "11- Faça um Programa que peça 2 números inteiros e um número real. Calcule e mostre:\n",
        "a. o produto do dobro do primeiro com metade do segundo .\n",
        "b. a soma do triplo do primeiro com o terceiro.\n",
        "c. o terceiro elevado ao cubo."
      ],
      "metadata": {
        "id": "OK00WKAzDXka"
      }
    },
    {
      "cell_type": "code",
      "source": [
        "num1i = int(input(\"Digite um numero inteiro \"))\n",
        "num2i = int(input(\"Digite outro numero inteiro \"))\n",
        "num3r = float(input(\"Digite um numero real \"))\n",
        "sm = (num1i * 2) / num2i\n",
        "sm1 = (num1i * 3) + num3r\n",
        "sm2 = (num3r ** 3)\n",
        "print(\"O valor da letra A é\",sm, \".O valor da letra B é\",sm1, \".O valor da letra C é\",sm2)"
      ],
      "metadata": {
        "id": "bcA_nnZ0DY4I"
      },
      "execution_count": null,
      "outputs": []
    },
    {
      "cell_type": "markdown",
      "source": [
        "12-"
      ],
      "metadata": {
        "id": "pus-7cV3HO3n"
      }
    },
    {
      "cell_type": "code",
      "source": [
        "alt = float(input(\"Digite a sua altura \"))\n",
        "peid = (72.7*alt) - 58\n",
        "print(\"O seu peso ideal é\", peid)"
      ],
      "metadata": {
        "id": "Yg6MYMYQHSZ6"
      },
      "execution_count": null,
      "outputs": []
    },
    {
      "cell_type": "markdown",
      "source": [
        "15- Faça um Programa que pergunte quanto você ganha por hora e o número de horas trabalhadas no mês.\n",
        "Calcule e mostre o total do seu salário no referido mês, sabendo-se que são descontados 11% para o Imposto\n",
        "de Renda, 8% para o INSS e 5% para o sindicato, faça um programa que nos dê:\n",
        "a. salário bruto.\n",
        "b. quanto pagou ao INSS.\n",
        "c. quanto pagou ao sindicato.\n",
        "d. o salário líquido.\n",
        "calcule os descontos e o salário líquido, conforme a tabela abaixo:"
      ],
      "metadata": {
        "id": "MY-1_wq38ZB-"
      }
    },
    {
      "cell_type": "code",
      "source": [
        "ganho = float(input(\"digite quanto você ganha por hora trabalhada \"))\n",
        "tempo = float(input(\"digite o numero de horas trabalhadas por mês \"))\n",
        "sb = (ganho*tempo)\n",
        "impostorenda = (sb*0.11)\n",
        "inss = (sb*0.08)\n",
        "sindicato = (sb*0.05)\n",
        "salliq = sb - (impostorenda + inss + sindicato)\n",
        "print(\"Seu salário bruto é\",sb,)\n",
        "print(\"O valor pago ao INSS é\",inss)\n",
        "print(\"O valor pago ao sindicato\",sindicato)\n",
        "print(\"O imposto de renda ficou\",impostorenda)\n",
        "print(\"O seu salário liquido ficou\",salliq)"
      ],
      "metadata": {
        "id": "ILVAkJpX79av",
        "colab": {
          "base_uri": "https://localhost:8080/"
        },
        "outputId": "daa76000-4b74-42f0-fbb4-611b56108e6a"
      },
      "execution_count": 5,
      "outputs": [
        {
          "output_type": "stream",
          "name": "stdout",
          "text": [
            "digite quanto você ganha por hora trabalhada 120\n",
            "digite o numero de horas trabalhadas por mês 8\n",
            "Seu salário bruto é 960.0\n",
            "O valor pago ao INSS é 76.8\n",
            "O valor pago ao sindicato 48.0\n",
            "O imposto de renda ficou 105.6\n",
            "O seu salário liquido ficou 729.6\n"
          ]
        }
      ]
    },
    {
      "cell_type": "markdown",
      "source": [
        "16- Faça um programa para uma loja de tintas. O programa deverá pedir o tamanho em metros quadrados da área\n",
        "a ser pintada. Considere que a cobertura da tinta é de 1 litro para cada 3 metros quadrados e que a tinta é\n",
        "vendida em latas de 18 litros, que custam R$ 80,00. Informe ao usuário a quantidades de latas de tinta a serem\n",
        "compradas e o preço total."
      ],
      "metadata": {
        "id": "ba6iGPkF_fgT"
      }
    },
    {
      "cell_type": "code",
      "source": [
        "areapintada = float(input(\"Informe a quantidade metros quadrados a ser pintada \"))\n",
        "li = (areapintada / 3)\n",
        "lata = (li / 18 )\n",
        "preco = (lata*80)\n",
        "print(\"Você precisa comprar\",lata,\"latas\",\"e ira pagar\",preco,\"R$\")"
      ],
      "metadata": {
        "id": "-EyVRmXM_fKi"
      },
      "execution_count": null,
      "outputs": []
    },
    {
      "cell_type": "markdown",
      "source": [
        "17- Faça um Programa para uma loja de tintas. O programa deverá pedir o tamanho em metros quadrados da área\n",
        "a ser pintada. Considere que a cobertura da tinta é de 1 litro para cada 6 metros quadrados e que a tinta é\n",
        "vendida em latas de 18 litros, que custam R$ 8**0,00 ou em galões de 3,6 litros, que custam** R$ 25,00.\n",
        "Informe ao usuário as quantidades de tinta a serem compradas e os respectivos preços em 3 situações:\n",
        "comprar apenas latas de 18 litros;\n",
        "comprar apenas galões de 3,6 litros;\n",
        "misturar latas e galões, de forma que o preço seja o menor. Acrescente 10% de folga e sempre\n",
        "arredonde os valores para cima, isto é, considere latas cheias."
      ],
      "metadata": {
        "id": "lzxoBAehCXuV"
      }
    },
    {
      "cell_type": "code",
      "source": [
        "metros = float(input(\"Informe a área que sera pintada \"))\n",
        "litro = (metros // 6)\n",
        "latas = (litro // 18)\n",
        "galoes= (litro // 3.6)\n",
        "prelatas = (latas * 80 ) \n",
        "pregaloes = (galoes * 25)\n",
        "print(\"Você ira precisar de\",latas,\"lata e ira pagar\",prelatas)\n",
        "print(\"Você ira precisar de\",galoes,\"galões e ira pagar\", pregaloes)"
      ],
      "metadata": {
        "id": "YN_hTZUpCkzX",
        "colab": {
          "base_uri": "https://localhost:8080/"
        },
        "outputId": "0a8799ff-6a4b-45db-a8c9-1a3fdfa6aa2b"
      },
      "execution_count": 4,
      "outputs": [
        {
          "output_type": "stream",
          "name": "stdout",
          "text": [
            "Informe a área que sera pintada 120\n",
            "Você ira precisar de 1.0 lata e ira pagar 80.0\n",
            "Você ira precisar de 5.0 galões e ira pagar 125.0\n"
          ]
        }
      ]
    },
    {
      "cell_type": "markdown",
      "source": [
        "18-\n"
      ],
      "metadata": {
        "id": "0MmyhvsGE2jb"
      }
    },
    {
      "cell_type": "code",
      "source": [
        "tamanho = float(input(\"Informe o tamanho do seu arquivo \"))\n",
        "velocidade = float(input(\"Informe a volocidade do link \"))\n",
        "tempo = (tamanho / velocidade)\n",
        "print(\"O tamanho desse arquivo usando esse link é\",tempo)"
      ],
      "metadata": {
        "id": "jWQHNXvWJcq8"
      },
      "execution_count": null,
      "outputs": []
    }
  ]
}