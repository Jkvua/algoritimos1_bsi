{
  "nbformat": 4,
  "nbformat_minor": 0,
  "metadata": {
    "colab": {
      "provenance": [],
      "authorship_tag": "ABX9TyMf2mIS3zFJ7A71kowMU3ou",
      "include_colab_link": true
    },
    "kernelspec": {
      "name": "python3",
      "display_name": "Python 3"
    },
    "language_info": {
      "name": "python"
    }
  },
  "cells": [
    {
      "cell_type": "markdown",
      "metadata": {
        "id": "view-in-github",
        "colab_type": "text"
      },
      "source": [
        "<a href=\"https://colab.research.google.com/github/Jkvua/pythonlist/blob/main/funcao.ipynb\" target=\"_parent\"><img src=\"https://colab.research.google.com/assets/colab-badge.svg\" alt=\"Open In Colab\"/></a>"
      ]
    },
    {
      "cell_type": "markdown",
      "source": [
        "`1. `Faça uma função para converter uma temperatura em graus Fahrenheit para\n",
        "Celsius. A temperatura em Fahrenheit é o dado de entrada e a temperatura em\n",
        "Celsius é o dado de saída. Utilize a fórmula C = (F - 32) * 5/9, onde F é a\n",
        "temperatura em Fahrenheit e C é a temperatura em Celsius."
      ],
      "metadata": {
        "id": "53wDAQcHE7IT"
      }
    },
    {
      "cell_type": "code",
      "execution_count": null,
      "metadata": {
        "id": "iyiovYPgEU-3"
      },
      "outputs": [],
      "source": [
        "def conversaofahrenheit(fahrenheit):\n",
        "    celsius = (fahrenheit - 32) * 5 / 9\n",
        "    return celsius\n",
        "\n",
        "temperaturaf = int(input(\"Informe a temperatura em fahrenheit: \"))\n",
        "temperaturac = conversaofahrenheit(temperaturaf)\n",
        "print(f'A temperatura em celsius é {temperaturac}')"
      ]
    },
    {
      "cell_type": "markdown",
      "source": [
        "`2. `Faça uma função que calcule a hipotenusa. Os catetos são os dados de entrada e\n",
        "a hipotenusa é o dado de saída.\n",
        "\n"
      ],
      "metadata": {
        "id": "HmT2YrZ1HPhl"
      }
    },
    {
      "cell_type": "code",
      "source": [
        "import math\n",
        "\n",
        "def calculo_hipotenusa(cateto1, cateto2):\n",
        "  hipotenusa = math.sqrt(cateto1 ** 2 + cateto2 ** 2)\n",
        "  return hipotenusa"
      ],
      "metadata": {
        "id": "u6XGc6sXJOL2"
      },
      "execution_count": 12,
      "outputs": []
    },
    {
      "cell_type": "markdown",
      "source": [
        "`3. `Escreva um programa para ler as notas das duas avaliações de um aluno no\n",
        "semestre. Faça uma função que receba as duas notas por parâmetro e calcule e\n",
        "escreva a média semestral e a mensagem “PARABÉNS! Você foi aprovado!”\n",
        "somente se o aluno foi aprovado (considere 6.0 a média mínima para aprovação)."
      ],
      "metadata": {
        "id": "rFvIjDsNHVDW"
      }
    },
    {
      "cell_type": "code",
      "source": [
        "def avaliacao(nota1, nota2):\n",
        "  media = (nota1 + nota2) / 2\n",
        "  return media\n",
        "\n",
        "primeiranota = float(input(\"Informe a sua primeira nota: \"))\n",
        "segundanota = float(input(\"Informe a sua segunda nota: \"))\n",
        "mediasemestral = avaliacao(primeiranota, segundanota)\n",
        "if mediasemestral >= 6.0:\n",
        "  print(f\"PARABÉNS! Você foi aprovado!\")\n",
        "else:\n",
        "  print(f\"Infelizmente não foi dessa vez \")\n"
      ],
      "metadata": {
        "id": "wm6PKzBpJO9E"
      },
      "execution_count": null,
      "outputs": []
    },
    {
      "cell_type": "markdown",
      "source": [
        "`4. `Faça um programa que leia a altura e o sexo (codificado da seguinte forma:\n",
        "1-feminino 2-masculino) de uma pessoa. Depois faça uma função chamada\n",
        "pesoideal que receba a altura e o sexo via parâmetro e que calcule e retorne seu\n",
        "peso ideal, utilizando as seguintes fórmulas:"
      ],
      "metadata": {
        "id": "DK6ywRkpHXdw"
      }
    },
    {
      "cell_type": "code",
      "source": [
        "def alt_sex(altura, sexo):\n",
        "  if sexo == 1:\n",
        "    pesoidealfem = (62.1 * altura) - 44.7\n",
        "    return pesoidealfem\n",
        "  if sexo == 2:\n",
        "    pesoidealmas = (72.7 * altura) - 58\n",
        "    return pesoidealmas\n",
        "\n",
        "altura = float(input(\"Informe a sua altura: \"))\n",
        "sexo = float(input(\"Informe 1 ou 2: \"))\n",
        "\n",
        "if sexo == 1 or sexo == 2:\n",
        "  pesoideal = alt_sex(altura, sexo)\n",
        "  print(f\"O seu peso ideal é {pesoideal}\")\n",
        "else:\n",
        "  print(\"Valor Invalido\")\n"
      ],
      "metadata": {
        "id": "Suj1rdMiJ4lL"
      },
      "execution_count": null,
      "outputs": []
    },
    {
      "cell_type": "markdown",
      "source": [
        "`5. `Escreva um programa para ler o número de lados de um polígono regular e a\n",
        "medida do lado (em cm). Faça uma função que receba como parâmetro o número\n",
        "de lados e a medida do lado deste polígono e calcule e imprima o seguinte:"
      ],
      "metadata": {
        "id": "vbpePBrJM8i6"
      }
    },
    {
      "cell_type": "code",
      "source": [
        "def geometria(lados, medida):\n",
        "  if lados == 3:\n",
        "    return f\"TRIÂNGULO, seu perimetro é de {medida * 3}\"\n",
        "  elif lados == 4:\n",
        "    return f\"QUADRADO, sua área é de {medida * medida}\"\n",
        "  elif lados == 5:\n",
        "    return \"PENTÁGONO\"\n",
        "  else:\n",
        "    return \"Valor inválido\""
      ],
      "metadata": {
        "id": "LHqurqlRNJ0d"
      },
      "execution_count": 15,
      "outputs": []
    },
    {
      "cell_type": "markdown",
      "source": [
        "`6.` Escreva uma função que recebe 2 números inteiros n1 e n2 como entrada e\n",
        "retorna a soma de todos os números inteiros contidos no intervalo [n1,n2]. Use\n",
        "esta função em um programa que lê n1 e n2 do usuário e imprime a soma."
      ],
      "metadata": {
        "id": "zPORbFjTNBCd"
      }
    },
    {
      "cell_type": "code",
      "source": [
        "def soma_intervalo(n1, n2):\n",
        "  soma = 0\n",
        "  for num in range(n1, n2 + 1):\n",
        "    soma += num\n",
        "  return soma\n",
        "\n",
        "n1 = int(input(\"Informe o primeiro número: \"))\n",
        "n2 = int(input(\"Informe o segundo número: \"))\n",
        "\n",
        "resultado = soma_intervalo(n1, n2)\n",
        "print(f\"A soma dos numeros [{n1}, {n2}] é: {resultado}\")"
      ],
      "metadata": {
        "id": "bf_xRYRNNIaf"
      },
      "execution_count": null,
      "outputs": []
    },
    {
      "cell_type": "markdown",
      "source": [
        "`7. `Escreva uma função que receba um número inteiro e imprima o mês\n",
        "correspondente ao número. Por exemplo, 2 corresponde a “fevereiro”. O\n",
        "procedimento deve mostrar uma mensagem de erro caso o número recebido não\n",
        "faça sentido. Gere também um programa que leia um valor e chame a função\n",
        "criada."
      ],
      "metadata": {
        "id": "5QacOD-eNZIN"
      }
    },
    {
      "cell_type": "code",
      "source": [
        "def mes_correspondente(mes):\n",
        "  match mes:\n",
        "    case 1:\n",
        "      return \"Janeiro\"\n",
        "    case 2:\n",
        "      return \"Fevereiro\"\n",
        "    case 3:\n",
        "      return \"Março\"\n",
        "    case 4:\n",
        "      return \"Abril\"\n",
        "    case 5:\n",
        "      return \"Maio\"\n",
        "    case 6:\n",
        "      return \"Junho\"\n",
        "    case 7:\n",
        "      return \"Julho\"\n",
        "    case 8:\n",
        "      return \"Agosto\"\n",
        "    case 9:\n",
        "      return \"Setembro\"\n",
        "    case 10:\n",
        "      return \"Outubro\"\n",
        "    case 11:\n",
        "      return \"Novembro\"\n",
        "    case 12:\n",
        "      return \"Dezembro\""
      ],
      "metadata": {
        "id": "v85wBBW2NmB_"
      },
      "execution_count": 22,
      "outputs": []
    },
    {
      "cell_type": "markdown",
      "source": [
        "`8. `Escreva uma função que receba um número natural e imprima os três primeiros\n",
        "caracteres do dia da semana correspondente ao número. Por exemplo, 7\n",
        "corresponde a “SAB”. O procedimento deve mostrar uma mensagem de erro caso\n",
        "o número recebido não corresponda a um dia da semana. Gere também um\n",
        "programa que utilize essa função, chamando-a, mas antes lendo um valor para\n",
        "passagem de parâmetro."
      ],
      "metadata": {
        "id": "KReOb-JqNck1"
      }
    },
    {
      "cell_type": "code",
      "source": [
        "def dia_corresponde(dia):\n",
        "  match dia:\n",
        "    case 1:\n",
        "      return \"DOM\"\n",
        "    case 2:\n",
        "      return \"SEG\"\n",
        "    case 3:\n",
        "      return \"TER\"\n",
        "    case 4:\n",
        "      return \"QUA\"\n",
        "    case 5:\n",
        "      return \"QUI\"\n",
        "    case 6:\n",
        "      return \"SEX\"\n",
        "    case 7:\n",
        "      return \"SAB\""
      ],
      "metadata": {
        "id": "ZdIwAd2LNdfd"
      },
      "execution_count": 23,
      "outputs": []
    },
    {
      "cell_type": "markdown",
      "source": [
        "`9. `Escreva uma função que receba dois números inteiros x e y. Essa função deve\n",
        "verificar se x é divisível por y. No caso positivo, a função deve retornar 1, caso\n",
        "contrário zero. Escreva também um programa para testar tal função."
      ],
      "metadata": {
        "id": "WAMpyuf5NuSr"
      }
    },
    {
      "cell_type": "code",
      "source": [
        "def calcular_x_y(x, y):\n",
        "  if x % y == 0:\n",
        "    return 1\n",
        "  else:\n",
        "    return 0\n",
        "\n",
        "x = int(input(\"Informe o valor de x: \"))\n",
        "y = int(input(\"Informe o valor de y: \"))\n",
        "\n",
        "resultado = calcular_x_y(x, y)\n",
        "if resultado == 1:\n",
        "  print(f\"{x} é divisivel por {y}\")\n",
        "else:\n",
        "  print(f\"{x} não é divisivel por {y}\")"
      ],
      "metadata": {
        "id": "3fhEJK1QNzt-"
      },
      "execution_count": null,
      "outputs": []
    },
    {
      "cell_type": "markdown",
      "source": [
        "`10. `Criar uma função que calcule e retorne o MAIOR entre dois valores recebidos como\n",
        "parâmetros. Um programa para testar tal função deve ser criado."
      ],
      "metadata": {
        "id": "15NC32DlNy8e"
      }
    },
    {
      "cell_type": "code",
      "source": [
        "def calcular_maior(valor1, valor2):\n",
        "  if valor1 > valor2:\n",
        "    return f\"O maior valor é {valor1}\"\n",
        "  else:\n",
        "    return f\"O maior valor é {valor2}\""
      ],
      "metadata": {
        "id": "kECUNaL0gdEQ"
      },
      "execution_count": 25,
      "outputs": []
    },
    {
      "cell_type": "markdown",
      "source": [
        "`11. `Crie uma função que realize a conversão de Polegadas (pol) para Centímetros\n",
        "(cm), onde pol é passado como parâmetro e cm é retornado. Sabe-se que 1\n",
        "polegada tem 2.54 centímetros. Crie também um programa para testar tal função."
      ],
      "metadata": {
        "id": "BwIxmFv5N8Zu"
      }
    },
    {
      "cell_type": "code",
      "source": [
        "def converterpcm(pol):\n",
        "  conversao = pol * 2.54\n",
        "  return conversao"
      ],
      "metadata": {
        "id": "9oL4XV9dOLZY"
      },
      "execution_count": 26,
      "outputs": []
    }
  ]
}