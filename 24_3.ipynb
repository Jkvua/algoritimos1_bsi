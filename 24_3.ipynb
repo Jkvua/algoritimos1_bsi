{
  "nbformat": 4,
  "nbformat_minor": 0,
  "metadata": {
    "colab": {
      "provenance": [],
      "authorship_tag": "ABX9TyN0ugJiqGrAQRgSbdWvARGX",
      "include_colab_link": true
    },
    "kernelspec": {
      "name": "python3",
      "display_name": "Python 3"
    },
    "language_info": {
      "name": "python"
    }
  },
  "cells": [
    {
      "cell_type": "markdown",
      "metadata": {
        "id": "view-in-github",
        "colab_type": "text"
      },
      "source": [
        "<a href=\"https://colab.research.google.com/github/Jkvua/pythonlist/blob/main/24_3.ipynb\" target=\"_parent\"><img src=\"https://colab.research.google.com/assets/colab-badge.svg\" alt=\"Open In Colab\"/></a>"
      ]
    },
    {
      "cell_type": "markdown",
      "source": [
        "1"
      ],
      "metadata": {
        "id": "WggiIdZebEdM"
      }
    },
    {
      "cell_type": "code",
      "source": [
        "x1 = 50\n",
        "print(x1)"
      ],
      "metadata": {
        "id": "Rbl-Zc6Hc0zY"
      },
      "execution_count": null,
      "outputs": []
    },
    {
      "cell_type": "code",
      "source": [
        "largura = 40\n",
        "altura = 20\n",
        "area = largura * altura"
      ],
      "metadata": {
        "id": "B-2_y9Rjg_UI"
      },
      "execution_count": null,
      "outputs": []
    },
    {
      "cell_type": "code",
      "source": [
        "nome = 'feste'\n",
        "sobrenome = 'tampo'"
      ],
      "metadata": {
        "id": "ERj5Bn7ViWEu"
      },
      "execution_count": null,
      "outputs": []
    },
    {
      "cell_type": "code",
      "source": [
        "a = input('digite uma altura ')\n",
        "b = input('digite uma base ')\n",
        "area = float(a) * float(b)\n",
        "print(area)"
      ],
      "metadata": {
        "id": "83EneasFjZuR"
      },
      "execution_count": null,
      "outputs": []
    },
    {
      "cell_type": "code",
      "source": [
        "print(5 * 'paulo')"
      ],
      "metadata": {
        "id": "VJCn53X2mZl1"
      },
      "execution_count": null,
      "outputs": []
    },
    {
      "cell_type": "markdown",
      "source": [
        "1-Faça um programa que peça dois números inteiros e imprima a soma desses dois números."
      ],
      "metadata": {
        "id": "F5P_TqSmpEmu"
      }
    },
    {
      "cell_type": "code",
      "source": [
        "nu = input('digite um numero ')\n",
        "mu = input('digite outro numero ') \n",
        "produto = float(nu) * float(mu)\n",
        "print(\"A soma desses dois números é\", produto)"
      ],
      "metadata": {
        "id": "-jb8C7G3nC_T"
      },
      "execution_count": null,
      "outputs": []
    },
    {
      "cell_type": "markdown",
      "source": [
        "2-Escreva um programa que leia um valor em metros e o exiba convertido em milímetros."
      ],
      "metadata": {
        "id": "gilJzAqU-552"
      }
    },
    {
      "cell_type": "code",
      "source": [
        "me = int(input('escreva um numero em metros '))\n",
        "mili = int(me*1000)\n",
        "print(\"Esse valor em milimitros é\", mili)"
      ],
      "metadata": {
        "id": "b-kDnTNJ-91s"
      },
      "execution_count": null,
      "outputs": []
    },
    {
      "cell_type": "markdown",
      "source": [
        "3-Escreva um programa que leia a quantidade de dias, horas, minutos e segundos do usuário. Calcule o\n",
        "total em segundos."
      ],
      "metadata": {
        "id": "zcpZyS7BBG9W"
      }
    },
    {
      "cell_type": "code",
      "source": [
        "di = int(input('digite um dia '))\n",
        "ho = int(input('digite as horas ')) \n",
        "min = int(input('digite os minutos '))\n",
        "seg = int(input('digite os segundos '))\n",
        "total = ((di*24*3600)+(ho*3600)+(min*60+seg))\n",
        "print(\"Convertendo todos para segundos fica\", total)"
      ],
      "metadata": {
        "id": "uOD6GmmDBQKQ"
      },
      "execution_count": null,
      "outputs": []
    },
    {
      "cell_type": "markdown",
      "source": [
        "4-Faça um programa que calcule o aumento de um salário. Ele deve solicitar o valor do salário e a\n",
        "porcentagem do aumento. Exiba o valor do aumento e do novo salário."
      ],
      "metadata": {
        "id": "R-glHPF4GYE0"
      }
    },
    {
      "cell_type": "code",
      "source": [
        "salario = float(input('digite seu salario '))\n",
        "aumento = float(input('qual a porcentagem do aumento? '))\n",
        "nsalario = ((salario) * (aumento/100))\n",
        "nv = (nsalario + salario)\n",
        "pns = (nv - salario)\n",
        "print(\"O seu novo salário é de\",nv,',já o seu valor de aumento foi de',pns)"
      ],
      "metadata": {
        "id": "6QlqEiPwGhu9"
      },
      "execution_count": null,
      "outputs": []
    },
    {
      "cell_type": "markdown",
      "source": [
        "5-Solicite o preço de uma mercadoria e o percentual de desconto. Exiba o valor do desconto e o preço a\n",
        "pagar."
      ],
      "metadata": {
        "id": "_35tdXbqKevU"
      }
    },
    {
      "cell_type": "code",
      "source": [
        "mer = int(input('digite o valor da mercadoria '))\n",
        "des = int(input('digite o percentual de desconto '))\n",
        "vsd = ((mer) * (des/100))\n",
        "vfn = ((mer) - (vsd))\n",
        "print(\"O seu valor de desconto é de\" ,vsd,\", já o valor final a pagar é de\" , vfn)"
      ],
      "metadata": {
        "id": "BzpcnF86Km3x"
      },
      "execution_count": null,
      "outputs": []
    },
    {
      "cell_type": "markdown",
      "source": [
        "6-Calcule o tempo de uma viagem de carro. Pergunte a distância a percorrer e a velocidade média\n",
        "esperada para a viagem."
      ],
      "metadata": {
        "id": "AvjzfH1yNQIy"
      }
    },
    {
      "cell_type": "code",
      "source": [
        "distancia = int(input('Qual a distancia que percorreu na sua viagem? '))\n",
        "velocidade = int(input('A que velocidade média você estava dirigindo? '))\n",
        "tmv = ((distancia) // (velocidade))\n",
        "print(\"O tempo de viajem foi de\",tmv,'horas')"
      ],
      "metadata": {
        "id": "0PRDtjNcNWXM"
      },
      "execution_count": null,
      "outputs": []
    },
    {
      "cell_type": "markdown",
      "source": [
        "7-Converta uma temperatura digitada em Celsius para Fahrenheit. F = 9*C/5 + 32 . Faça agora o\n",
        "contrário, de Fahrenheit para Celsius."
      ],
      "metadata": {
        "id": "0RPDEJV0PRGj"
      }
    },
    {
      "cell_type": "code",
      "source": [
        "fah = float(input(\"digite uma temperatura em Celsius \"))\n",
        "cel = float(input(\"digite uma temperatuta em Fahrenheit \"))\n",
        "fag = 0\n",
        "cels = 0\n",
        "fag = fah * (9 / 5) + 32\n",
        "cels = (cel - 32) * (5 / 9)\n",
        "print(\"Sua temperatura de Celsius para Fahrenheit fica\",fag, \"e sua temperatura de Fahrenheit para Celsius fica\",cels)"
      ],
      "metadata": {
        "id": "duJrBTWIkEOD"
      },
      "execution_count": null,
      "outputs": []
    },
    {
      "cell_type": "markdown",
      "source": [
        "8-Escreva um programa que pergunte a quantidade de km percorridos por um carro alugado pelo usuário,\n",
        "assim como a quantidade de dias pelos quais o carro foi alugado. Calcule o preço a pagar, sabendo que o\n",
        "carro custa R$ 60,00 por dia e R$ 0,15 por km rodado."
      ],
      "metadata": {
        "id": "MY593FDvQ53Y"
      }
    },
    {
      "cell_type": "code",
      "source": [
        "percorrido = int(input('Digite a quantidade de km percorridos '))\n",
        "alugado = int(input('Digite a quantidade de dias que o carro ficou alugado '))\n",
        "temp = ((alugado*60) + (percorrido*0.15))\n",
        "print(\"O preço a pagar é de\",temp)\n"
      ],
      "metadata": {
        "id": "V7AlwBk3RM4n"
      },
      "execution_count": null,
      "outputs": []
    },
    {
      "cell_type": "markdown",
      "source": [
        "9-Escreva um programa para calcular a redução do tempo de vida de um fumante. Pergunte a quantidade\n",
        "de cigarros fumados por dia e quantos anos ele já fumou. Considere que um fumante perde 10 minutos\n",
        "de vida a cada cigarro, calcule quantos dias de vida um fumante perderá. Exiba o total de dias."
      ],
      "metadata": {
        "id": "9D-lw7FElumW"
      }
    },
    {
      "cell_type": "code",
      "source": [
        "cigarros = int(input('Quantos cigarros você fuma por dia? '))\n",
        "temci = int(input('A quantos anos você fuma? '))\n",
        "dias = (temci*365)\n",
        "quatcig = (cigarros*dias)\n",
        "temvidd = (quatcig * 10)\n",
        "tempvip = int(temvidd / 1440)\n",
        "print(\"\")\n",
        "print(\"Dias de vida perdidos = \", tempvip )"
      ],
      "metadata": {
        "id": "2oIM7pv5l_vx"
      },
      "execution_count": null,
      "outputs": []
    },
    {
      "cell_type": "markdown",
      "source": [
        "10-Sabendo que str( ) converte valores numéricos para string, calcule quantos dígitos há em 2 elevado a um\n",
        "milhão."
      ],
      "metadata": {
        "id": "OYiIttAMpzIX"
      }
    },
    {
      "cell_type": "code",
      "source": [
        "x = 2 ** 10\n",
        "print(len(str(f\"A quantidade de caracteres é: \")))"
      ],
      "metadata": {
        "id": "VlndKmOZnyGG",
        "outputId": "6fa63681-f39a-48fd-a8e0-ed75687684b0",
        "colab": {
          "base_uri": "https://localhost:8080/"
        }
      },
      "execution_count": 15,
      "outputs": [
        {
          "output_type": "stream",
          "name": "stdout",
          "text": [
            "30\n"
          ]
        }
      ]
    }
  ]
}