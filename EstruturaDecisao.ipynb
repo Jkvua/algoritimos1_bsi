{
  "nbformat": 4,
  "nbformat_minor": 0,
  "metadata": {
    "colab": {
      "provenance": [],
      "authorship_tag": "ABX9TyMcN2TmfcD6fI++/npxSyh8",
      "include_colab_link": true
    },
    "kernelspec": {
      "name": "python3",
      "display_name": "Python 3"
    },
    "language_info": {
      "name": "python"
    }
  },
  "cells": [
    {
      "cell_type": "markdown",
      "metadata": {
        "id": "view-in-github",
        "colab_type": "text"
      },
      "source": [
        "<a href=\"https://colab.research.google.com/github/Jkvua/pythonlist/blob/main/EstruturaDecisao.ipynb\" target=\"_parent\"><img src=\"https://colab.research.google.com/assets/colab-badge.svg\" alt=\"Open In Colab\"/></a>"
      ]
    },
    {
      "cell_type": "markdown",
      "source": [
        "2-Ler um valor e escrever se é positivo, negativo ou zero."
      ],
      "metadata": {
        "id": "yvmovDNTZplq"
      }
    },
    {
      "cell_type": "code",
      "source": [
        "n = int(input(\"Digite um valor: \"))\n",
        "if n > 0:\n",
        "  print(\"Esse numero é positivo\")\n",
        "if n < 0:\n",
        "  print(\"Esse numero é negativo\")\n",
        "elif n == 0:\n",
        "  print(\"Esse numero é zero \")"
      ],
      "metadata": {
        "id": "CgRQi780Ykry"
      },
      "execution_count": null,
      "outputs": []
    },
    {
      "cell_type": "markdown",
      "source": [
        "3-Ler um valor e escrever a mensagem É MAIOR QUE 10! se o valor lido for maior que 10,\n",
        "caso contrário escrever NÃO É MAIOR QUE 10!"
      ],
      "metadata": {
        "id": "TVcVnQvVbn5J"
      }
    },
    {
      "cell_type": "code",
      "source": [
        "valor = int(input(\"Digite um valor: \"))\n",
        "if valor > 10:\n",
        "  print(\"É MAIOR QUE 10! \\n\")\n",
        "else:\n",
        "  print(\"NÃO É MAIOR QUE 10! \\n\")"
      ],
      "metadata": {
        "id": "wy71SDpSbozo"
      },
      "execution_count": null,
      "outputs": []
    },
    {
      "cell_type": "markdown",
      "source": [
        "4-Calcule a soma de dois números, se o resultado for maior que 10, mostre-o na tela."
      ],
      "metadata": {
        "id": "ALUndd0ucOJY"
      }
    },
    {
      "cell_type": "code",
      "source": [
        "num1 = int(input(\"Digite um valor: \"))\n",
        "num2 = int(input(\"Digite outro valor: \"))\n",
        "resultado = (num1 + num2)\n",
        "if resultado > 10:\n",
        "  print(resultado)\n",
        "elif resultado == 10:\n",
        "  print(\"Esse numero é igual a 10\")\n",
        "else:\n",
        "  print(\"Esse numero é menor que 10\")"
      ],
      "metadata": {
        "id": "e_qUVTcMcQ4S"
      },
      "execution_count": null,
      "outputs": []
    },
    {
      "cell_type": "markdown",
      "source": [
        "5-Entrar com um número e informar se ele é divisível por 5."
      ],
      "metadata": {
        "id": "zCGOouQMw_Jx"
      }
    },
    {
      "cell_type": "code",
      "source": [
        "numero = int(input(\"Digite um numero: \"))\n",
        "if numero % 5 == 0:\n",
        "  print(\"Esse numero é divisivel por cinco\")\n",
        "else:\n",
        "  print(\"Esse numero não é divisivel por cinco\")"
      ],
      "metadata": {
        "id": "0HbVMaemxEQj"
      },
      "execution_count": null,
      "outputs": []
    },
    {
      "cell_type": "markdown",
      "source": [
        "6-Construir um algoritmo que indique se o número digitado está entre 20 e 90 ou não."
      ],
      "metadata": {
        "id": "Z2wvPG_c1SaS"
      }
    },
    {
      "cell_type": "code",
      "source": [
        "nun = int(input(\"Digite um numero: \"))\n",
        "if nun >= 20 and  nun < 90:\n",
        "  print(\"Esse numero esta entre 20 e 90\")\n",
        "else:\n",
        "  print(\"Não esta entre 20 e 90\")"
      ],
      "metadata": {
        "id": "P44ZeN9K1YwT"
      },
      "execution_count": null,
      "outputs": []
    },
    {
      "cell_type": "markdown",
      "source": [
        "7-Ler o ano atual e o ano de nascimento de uma pessoa. Escrever uma mensagem que\n",
        "diga se ela poderá ou não votar este ano (não é necessário considerar o mês em que a\n",
        "pessoa nasceu)."
      ],
      "metadata": {
        "id": "TzD9TFnw4uts"
      }
    },
    {
      "cell_type": "code",
      "source": [
        "ano = int(input(\"Digite o ano atual: \"))\n",
        "idade = int(input(\"Informe o ano que você nasceu: \"))\n",
        "vota = (ano - idade)\n",
        "if vota >= 18:\n",
        "  print(\"Você poderá votar\")\n",
        "else:\n",
        "  print(\"Você não pode votar ainda!\")"
      ],
      "metadata": {
        "id": "O5nDWP-s55_P"
      },
      "execution_count": null,
      "outputs": []
    },
    {
      "cell_type": "markdown",
      "source": [
        "8-Entrar com o ano de nascimento de uma pessoa e imprimir a idade dela. Verificar se o\n",
        "ano digitado é válido."
      ],
      "metadata": {
        "id": "OISsTI4k8kCW"
      }
    },
    {
      "cell_type": "code",
      "source": [
        "ano = int(input(\"Informe o ano que você nasceu: \"))\n",
        "idade = (2023 - ano)\n",
        "if ano < 2023:\n",
        "  print(idade)\n",
        "else:\n",
        "  print(\"Esse ano está incorreto em!\")"
      ],
      "metadata": {
        "id": "nb6N5BRe8k8F"
      },
      "execution_count": null,
      "outputs": []
    },
    {
      "cell_type": "markdown",
      "source": [
        "9-Entrar com a idade de uma pessoa e exibir a mensagem; Maior de idade, menor de\n",
        "idade ou acima de 65 anos."
      ],
      "metadata": {
        "id": "l7ypnr2W-s9x"
      }
    },
    {
      "cell_type": "code",
      "source": [
        "idade = int(input(\"Informe a sua idade: \"))\n",
        "if idade >= 18 and idade < 65:\n",
        "  print(\"Maior de idade\")\n",
        "elif idade < 18:\n",
        "  print(\"Menor de idade\")\n",
        "elif idade >= 65:\n",
        "  print(\"Acima de 65 anos\")"
      ],
      "metadata": {
        "id": "5FiLs9JM-ud2"
      },
      "execution_count": null,
      "outputs": []
    },
    {
      "cell_type": "markdown",
      "source": [
        "10-Ler as notas da 1a\n",
        ". e 2a\n",
        ". avaliações de um aluno. Calcular a média aritmética simples e\n",
        "escrever uma mensagem que diga se o aluno foi ou não aprovado (considerar que se a\n",
        "nota for igual ou maior que 6 o aluno é aprovado). Escrever também a média\n",
        "calculada."
      ],
      "metadata": {
        "id": "kbPCA9E8I1Oi"
      }
    },
    {
      "cell_type": "code",
      "source": [
        "nota1 = float(input(\"Informe a sua primeira nota: \"))\n",
        "nota2 = float(input(\"Informe a sua segunda nota: \"))\n",
        "soma = ((nota1 + nota2) / 2)\n",
        "if soma >= 6:\n",
        "  print(\"Você foi aprovado parabéns! sua média foi\",soma)\n",
        "else:\n",
        "  print(\"Você não foi aprovado, lamento\")\n"
      ],
      "metadata": {
        "id": "N05bIpqNI1-4"
      },
      "execution_count": null,
      "outputs": []
    },
    {
      "cell_type": "markdown",
      "source": [
        "11-Escrever um algoritmo para ler duas notas de um aluno e escrever na tela a palavra\n",
        "“Aprovado” se a média das duas notas for maior ou igual a 7,0. Caso a média seja\n",
        "inferior a 7,0, o programa deve ler a nota do exame e calcular a média final. Se esta\n",
        "média for maior ou igual a 5,0, o programa deve escrever “Aprovado”, caso contrário\n",
        "deve escrever “Reprovado”."
      ],
      "metadata": {
        "id": "vR_57gzC_RzR"
      }
    },
    {
      "cell_type": "code",
      "source": [
        "nota1 = float(input(\"Informe sua primeira nota: \"))\n",
        "nota2 = float(input(\"Informe sua segunda nota: \"))\n",
        "media = ((nota1 + nota2) / 2)\n",
        "if media >= 7:\n",
        "  print(\"Aprovado\")\n",
        "else: \n",
        "  media < 7\n",
        "  notaexame = float(input(\"Informe do exame: \"))\n",
        "  mediafinal = ((media + notaexame) / 2)\n",
        "  if mediafinal >= 5:\n",
        "    print(\"Aprovado\")\n",
        "  else:\n",
        "    print(\"Reprovado\")\n"
      ],
      "metadata": {
        "id": "hWn3EHKQ_eYY"
      },
      "execution_count": null,
      "outputs": []
    },
    {
      "cell_type": "markdown",
      "source": [
        "12-Escrever um algoritmo para ler a quantidade de horas aula dadas por dois professores\n",
        "e o valor por hora recebido por cada um. Mostrar na tela qual dos professores tem\n",
        "salário total maior."
      ],
      "metadata": {
        "id": "bY0OxkW5DXXZ"
      }
    },
    {
      "cell_type": "code",
      "source": [
        "professor1 = int(input(\"Informe a quantidade de horas trabalhadas: \"))\n",
        "valor1 = float(input(\"Informe quanto ganha por aula ministrada: \"))\n",
        "professor2 = int(input(\"Informe a quantidade de horas trabalhadas - segundo professor: \"))\n",
        "valor2 = float(input(\"Informe quanto ganha por aula ministrada - segundo professor: \"))\n",
        "ganho1 = (professor1 * valor1)\n",
        "ganho2 = (professor2 * valor2)\n",
        "if ganho1 > ganho2:\n",
        "  print(\"O primeiro professor ganha mais\",)\n",
        "else:\n",
        "  print(\"O segundo professor ganha mais\",) "
      ],
      "metadata": {
        "id": "2PIoGiBBE03z"
      },
      "execution_count": null,
      "outputs": []
    },
    {
      "cell_type": "markdown",
      "source": [
        "13-Faça um algoritmo que leia um número inteiro e mostre uma mensagem indicando se\n",
        "este número é par ou ímpar."
      ],
      "metadata": {
        "id": "fvhW_RYkJEBC"
      }
    },
    {
      "cell_type": "code",
      "source": [
        "numero = int(input(\"Digite um número: \"))\n",
        "if (numero % 2) == 0:\n",
        "  print(\"PAR\")\n",
        "else:\n",
        "  print(\"ÍMPAR\")"
      ],
      "metadata": {
        "id": "slJHqwW_I0Oc"
      },
      "execution_count": null,
      "outputs": []
    },
    {
      "cell_type": "markdown",
      "source": [
        "14-Ler o nome de 2 times e o número de gols marcados na partida. Escrever o nome do\n",
        "vencedor. Caso não haja vencedor deverá ser impressa a palavra EMPATE."
      ],
      "metadata": {
        "id": "grmQoEOZPIu7"
      }
    },
    {
      "cell_type": "code",
      "source": [
        "time1 = str(input(\"Informe o nome primeiro time: \"))\n",
        "time2 = str(input(\"Informe o nome do segundo time: \"))\n",
        "gols1 = int(input(\"Informe o numero de gols marcados pelo time 1: \"))\n",
        "gols2 = int(input(\"Informe o numero de gols marcados pelo time 2: \"))\n",
        "if gols1 > gols2:\n",
        "  print(\"O time vencedor é o\",time1)\n",
        "elif gols1 == gols2:\n",
        "  print(\"EMPATE\")\n",
        "elif gols1 < gols2:\n",
        "  print(\"O time vencedor é o\",time2)"
      ],
      "metadata": {
        "id": "CdndNL-3PJrx"
      },
      "execution_count": null,
      "outputs": []
    },
    {
      "cell_type": "markdown",
      "source": [
        "15-Entrar com a sigla do estado de uma pessoa e imprimir uma das mensagens: “Carioca,\n",
        "Paulista, Mineiro ou Outros”"
      ],
      "metadata": {
        "id": "xdhbMC3SRbqC"
      }
    },
    {
      "cell_type": "code",
      "source": [
        "sigla = input(\"Informe a sigla do seu estado: \")\n",
        "if sigla == \"RJ\":\n",
        "  print(\"carioca\")\n",
        "elif sigla == \"SP\":\n",
        "  print(\"paulista\")\n",
        "elif sigla == \"MG\":\n",
        "  print(\"mineiro\")\n",
        "else:\n",
        "  print(\"outros\")"
      ],
      "metadata": {
        "id": "H5eh3s-NReVB"
      },
      "execution_count": null,
      "outputs": []
    },
    {
      "cell_type": "markdown",
      "source": [
        "16-Um comerciante comprou um produto e quer vendê-lo com um lucro de 45% se o valor\n",
        "da compra for menor que R$ 20,00; Caso contrário, o lucro será de 30%. Entrar com o\n",
        "valor do produto e imprimir o valor da venda."
      ],
      "metadata": {
        "id": "NobO5T4yb64-"
      }
    },
    {
      "cell_type": "code",
      "source": [
        "produto = float(input(\"Informe o valor do produto: \"))\n",
        "if produto < 20:\n",
        "  lucro = 0.45\n",
        "  print(\"O valor da venda ficou\",produto + produto * lucro)\n",
        "else:\n",
        "  lucro = 0.30\n",
        "  print(\"O valor da venda ficou\",produto + produto * lucro)"
      ],
      "metadata": {
        "id": "AXUv2hOsb-bm"
      },
      "execution_count": null,
      "outputs": []
    },
    {
      "cell_type": "markdown",
      "source": [
        "17-Entrar com um número de 1 a 12 e exibir o mês correspondente."
      ],
      "metadata": {
        "id": "_bJ8yjJgUI4A"
      }
    },
    {
      "cell_type": "code",
      "source": [
        "num1 = int(input(\"Digite um numero de 1 a 12: \"))\n",
        "if num1 == 1:\n",
        "  print(\"Janeiro\")\n",
        "elif num1 == 2:\n",
        "  print(\"Fevereiro\")\n",
        "elif num1 == 3:\n",
        "  print(\"Março\")\n",
        "elif num1 == 4:\n",
        "  print(\"Abril\")\n",
        "elif num1 == 5:\n",
        "  print(\"Maio\")\n",
        "elif num1 == 6:\n",
        "  print(\"Junho\")\n",
        "elif num1 == 7:\n",
        "  print(\"Julho\")\n",
        "elif num1 == 8:\n",
        "  print(\"Agosto\")\n",
        "elif num1 == 9:\n",
        "  print(\"Setembro\")\n",
        "elif num1 == 10:\n",
        "  print(\"Outubro\")\n",
        "elif num1 == 11:\n",
        "  print(\"Novembro\")\n",
        "elif num1 == 12:\n",
        "  print(\"Dezembro\")\n",
        "else:\n",
        "  print(\"mês invalido\")"
      ],
      "metadata": {
        "id": "_yyoCRgUUJfI"
      },
      "execution_count": null,
      "outputs": []
    },
    {
      "cell_type": "markdown",
      "source": [
        "18-Faça um algoritmo que verifique se uma letra digitada é vogal ou consoante."
      ],
      "metadata": {
        "id": "H5MR3ihdeJpj"
      }
    },
    {
      "cell_type": "code",
      "source": [
        "letra = input(\"Digite uma letra: \")\n",
        "if letra in 'aeiouAEIOU':\n",
        "  print(\"Vogal\")\n",
        "else:\n",
        "  print(\"Consoante\")"
      ],
      "metadata": {
        "id": "OjYIbddqeNLP"
      },
      "execution_count": null,
      "outputs": []
    },
    {
      "cell_type": "markdown",
      "source": [
        "19-Ler 2 valores (considere que não serão lidos valores iguais) e escrever o maior deles."
      ],
      "metadata": {
        "id": "-Snrm8CAVQdR"
      }
    },
    {
      "cell_type": "code",
      "source": [
        "valor1 = int(input(\"Digite um valor: \"))\n",
        "valor2 = int(input(\"Digite outro valor: \"))\n",
        "if valor1 > valor2:\n",
        "  print(\"Valor número 1 é maior\")\n",
        "else:\n",
        "  print(\"Valor número 2 é maior\")\n"
      ],
      "metadata": {
        "id": "9ACSJ070VZXu"
      },
      "execution_count": null,
      "outputs": []
    },
    {
      "cell_type": "markdown",
      "source": [
        "20-Ler 2 valores (considere que não serão lidos valores iguais) e escrevê-los em ordem\n",
        "crescente."
      ],
      "metadata": {
        "id": "DY08yytsYNwO"
      }
    },
    {
      "cell_type": "code",
      "source": [
        "valor1 = int(input(\"Entre com um valor: \"))\n",
        "valor2 = int(input(\"Entre com um segundo valor: \"))\n",
        "if valor1 > valor2:\n",
        "  print(\"Em ordem crescente\",valor2,\"e\",valor1)\n",
        "elif valor1 < valor2:\n",
        "  print(\"Em ordem crescente\",valor1,\"e\",valor2)"
      ],
      "metadata": {
        "id": "ijVIjoYpYUHq"
      },
      "execution_count": null,
      "outputs": []
    },
    {
      "cell_type": "markdown",
      "source": [
        "21-Ler 3 valores (considere que não serão informados valores iguais) e escrever o maior\n",
        "deles."
      ],
      "metadata": {
        "id": "4UyXubVGZlbT"
      }
    },
    {
      "cell_type": "code",
      "source": [
        "valor1 = int(input(\"Entre com um valor: \"))\n",
        "valor2 = int(input(\"Entre com um segundo valor: \"))\n",
        "valor3 = int(input(\"Entre com um terceiro valor: \"))\n",
        "if valor1 > valor2 and valor1 > valor3:\n",
        "  print(\"O valor um é o maior\")\n",
        "elif valor2 > valor1 and valor2 > valor3:\n",
        "    print(\"O segundo valor é maior\")\n",
        "else:\n",
        "    print(\"O terceiro valor é o maior\")"
      ],
      "metadata": {
        "id": "683Dq3--ZrPj"
      },
      "execution_count": null,
      "outputs": []
    },
    {
      "cell_type": "markdown",
      "source": [
        "22-Ler 3 valores (considere que não serão informados valores iguais) e escrever a soma\n",
        "dos 2 maiores."
      ],
      "metadata": {
        "id": "zntoVc9dbNIR"
      }
    },
    {
      "cell_type": "code",
      "source": [
        "num1 = float(input(\"Digite um valor: \"))\n",
        "num2 = float(input(\"Digite um segundo valor: \"))\n",
        "num3 = float(input(\"Digite um terceiro valor: \"))\n",
        "if num3 < num1 and (num1 < num2):\n",
        "  print(num1 + num2)\n",
        "elif num2 < num1 and (num1 < num3):\n",
        "  print(num1 + num3)\n",
        "else:\n",
        "  print(num2 + num3)"
      ],
      "metadata": {
        "id": "ZJRsC6VrbUBS"
      },
      "execution_count": null,
      "outputs": []
    },
    {
      "cell_type": "markdown",
      "source": [
        "23-Ler 3 valores (considere que não serão informados valores iguais) e escrevê-los em\n",
        "ordem crescente."
      ],
      "metadata": {
        "id": "rx4TaVN1Bpbf"
      }
    },
    {
      "cell_type": "code",
      "source": [
        "valor1 = int(input(\"Digite um valor: \"))\n",
        "valor2 = int(input(\"Digite um segundo valor: \"))\n",
        "valor3 = int(input(\"Digite um terceiro valor: \"))\n",
        "if valor1 < valor2 and (valor2 < valor3):\n",
        "  print(\"Em ordem crescente\",valor1,valor2,valor3)\n",
        "elif valor3 < valor1 and valor1 < valor2:\n",
        "  print(\"Em ordem crescente\",valor3,valor1,valor2)\n",
        "elif valor2 < valor3 and valor3 < valor1:\n",
        "  print(\"Em ordem crescente\",valor2,valor3,valor1)"
      ],
      "metadata": {
        "id": "hf-cvTRTBq9D"
      },
      "execution_count": null,
      "outputs": []
    },
    {
      "cell_type": "markdown",
      "source": [
        "24-Faça um algoritmo que leia as duas notas parciais obtidas por um aluno numa\n",
        "disciplina ao longo de um semestre, e calcule a sua média. A atribuição de conceitos\n",
        "obedece à tabela abaixo:\n",
        "O algoritmo deve mostrar na tela as notas, a média, o conceito correspondente e a\n",
        "mensagem “APROVADO” se o conceito for A, B ou C ou “REPROVADO” se o conceito for D\n",
        "ou E."
      ],
      "metadata": {
        "id": "DT_NMEtvePgD"
      }
    },
    {
      "cell_type": "code",
      "source": [
        "nota1 = float(input(\"Informe sua primeira nota: \"))\n",
        "nota2 = float(input(\"Informe sua segunda nota: \"))\n",
        "media = ((nota1 + nota2) / 2)\n",
        "if media >= 9:\n",
        "  print(\"APROVADO,sua média ficou\",media,\"seu conceito é o A\")\n",
        "elif media >= 7.5:\n",
        "  print(\"APROVADO, sua média ficou\",media,\"seu conceito é o B\")\n",
        "elif media >= 6:\n",
        "  print(\"APROVADO,sua média ficou\",media,\"seu conceito é o C\")\n",
        "elif media >= 4:\n",
        "  print(\"REPROVADO,sua média ficou\",media,\"seu conceito é o D\")\n",
        "elif media >= 0:\n",
        "  print(\"REPROVADO,sua média ficou\",media,\"seu conseito é o E\")"
      ],
      "metadata": {
        "id": "J43LzwKreVqF"
      },
      "execution_count": null,
      "outputs": []
    },
    {
      "cell_type": "markdown",
      "source": [
        "25-Escrever um algoritmo para ler dois valores e uma das seguintes operações a serem\n",
        "executadas (codificadas da seguinte forma: 1 – Adição, 2 – Subtração, 3 – Multiplicação\n",
        "e 4 – Divisão). Calcular e escrever o resultado dessa operação sobre os dois valores\n",
        "lidos."
      ],
      "metadata": {
        "id": "AnVaQqBGHYYc"
      }
    },
    {
      "cell_type": "code",
      "source": [
        "valor1 = float(input(\"Digite um valor: \"))\n",
        "valor2 = float(input(\"Digite um segundo valor: \"))\n",
        "operacao = int(input(\"Digite 1 para - Adição, 2 - Subtração, 3 - Multiplicação, 4 - Divisão \"))\n",
        "if operacao == 1:\n",
        "  print(valor1 + valor2)\n",
        "elif operacao == 2:\n",
        "  print(valor1 - valor2)\n",
        "elif operacao == 3:\n",
        "  print(valor1 * valor2)\n",
        "elif operacao == 4:\n",
        "  print(valor1 / valor2)\n",
        "else:\n",
        "  print(\"Valor invalido\")"
      ],
      "metadata": {
        "id": "ZbbsVePdHeKz"
      },
      "execution_count": null,
      "outputs": []
    },
    {
      "cell_type": "markdown",
      "source": [
        "26-Faça um algoritmo para calcular as raízes reais de uma equação quadrática: ax2 + bx +\n",
        "c = 0. Uma equação quadrática só tem raiz reais se (b2 - 4ac) for maior ou igual a\n",
        "zero. O algoritmo deverá informar as seguintes situações:\n",
        "• Se o delta calculado for negativo, a equação não possui raízes reais. Informe ao\n",
        "usuário e encerre o programa;\n",
        "• Se o delta calculado for igual a zero a equação possui apenas uma raiz real,\n",
        "informe-a ao usuário;\n",
        "• Se o delta for positivo, a equação possui duas raiz reais, informe-as ao usuário.\n"
      ],
      "metadata": {
        "id": "amKtdXpILgya"
      }
    },
    {
      "cell_type": "code",
      "source": [
        "import math\n",
        "\n",
        "print(\"Resolvendo equação de 2 grau\\n\")\n",
        "\n",
        "a = float(input(\"Digite o valor de 'a': \"))\n",
        "b = float(input(\"Digite o valor de 'b': \"))\n",
        "c = float(input(\"Digite o valor de 'c': \"))\n",
        "\n",
        "delta = b**2 - 4*a*c\n",
        "\n",
        "if delta < 0:\n",
        "    print(\"Delta zero são raizes imaginarias\")\n",
        "elif delta == 0:\n",
        "    raiz = -b / (2*a)\n",
        "    print(\"Delta 0, raiz\",raiz)\n",
        "else:\n",
        "    raiz1 = (- b + math.sqrt(delta)) // (2*a)\n",
        "    raiz2 = (- b - math.sqrt(delta)) // (2*a)\n",
        "    print(\"As raizes são:\",raiz1,\"e\",raiz2)"
      ],
      "metadata": {
        "id": "FPZxB-wFLmCl"
      },
      "execution_count": null,
      "outputs": []
    },
    {
      "cell_type": "markdown",
      "source": [
        "27-Faça um algoritmo que leia 3 valores a, b, c, e verifique se podem ser os\n",
        "comprimentos dos lados de um triângulo. Em caso afirmativo, verifique se é “triângulo\n",
        "equilátero”, “triângulo isósceles” ou “triângulo escaleno”. Em caso negativo, escreva\n",
        "uma mensagem: “os valores lidos não formam um triângulo”. Considere que:\n",
        "• o comprimento de cada lado de um triângulo é menor que a soma dos\n",
        "comprimentos dos outros lados\n",
        "• um triângulo equilátero tem três lados iguais\n",
        "• um triângulo isósceles tem dois lados iguais e um diferente\n",
        "• um triângulo escaleno tem três lados diferentes."
      ],
      "metadata": {
        "id": "H-TySe_oYfsw"
      }
    },
    {
      "cell_type": "code",
      "source": [
        "lado1 = int(input(\"Informe o valor de um lado: \"))\n",
        "lado2 = int(input(\"Informe o valor o segundo ado: \"))\n",
        "lado3 = int(input(\"Informe o valor do terceiro lado do triangulo: \"))\n",
        "if lado1 and lado2 and lado3 < 0:\n",
        "  print(\"Os valores lidos não formam um triângulo\")\n",
        "else:\n",
        "  if lado1 == lado2 and lado2 == lado3:\n",
        "    print(\"Triângulo equilatero\\n\")\n",
        "  elif lado1 == lado2 != lado3 or lado1 == lado3 != lado2 or lado2 == lado3 != lado1:\n",
        "    print(\"Triângulo isósceles\")\n",
        "  elif lado1 != lado2 and lado2 != lado3:\n",
        "    print(\"Triangulo escaleno\")\n"
      ],
      "metadata": {
        "id": "FGqwLLEXfzFu"
      },
      "execution_count": null,
      "outputs": []
    },
    {
      "cell_type": "markdown",
      "source": [
        "28-Escreva um algoritmo que leia 4 valores (opção, a, b, c), onde opção é um valor\n",
        "inteiro e positivo e a, b, c são quaisquer valores reais. Escreva os valores lidos da\n",
        "seguinte maneira:\n",
        "se opção = 1 - escreva os 3 valores a, b, c em ordem crescente\n",
        "se opção = 2 - escreva os 3 valores a, b, c em ordem decrescente\n",
        "se opção = 3 - escreva os 3 valores de forma que o maior valor entre a, b, c fica\n",
        "entre os outros 2.`(dificil essa em)`"
      ],
      "metadata": {
        "id": "Dx1hNlG0lFKV"
      }
    },
    {
      "cell_type": "code",
      "source": [
        "opcao = int(input(\"Escolha uma opção: 1 - ordem crescente 2 - ordem decrescente 3 - o maior valor fica no meio = \"))\n",
        "a = int(input(\"Digite um valor: \"))\n",
        "b = int(input(\"Digite um segundo valor: \"))\n",
        "c = int(input(\"Digite um terceiro valor: \"))\n",
        "if opcao == 1:\n",
        "   Lsta = [a,b,c]\n",
        "   print(sorted(Lsta))\n",
        "\n",
        "elif opcao == 2:\n",
        "   Lsta = [a,b,c]\n",
        "   print(sorted(Lsta, reverse=True))\n",
        "\n",
        "elif opcao == 3:\n",
        "    if a > b and a > c:\n",
        "        if b > c:\n",
        "            print(\"os valores em suas ordem:\", c, a, b)\n",
        "        else:\n",
        "            print(\"os valores em suas ordem:\", b, a, c)\n",
        "    elif b > a and b > c:\n",
        "        if a > c:\n",
        "            print(\"os valores em suas ordem:\", c, b, a)\n",
        "        else:\n",
        "            print(\"os valores em suas ordem:\", a, b, c)\n",
        "    else:\n",
        "        if a > b:\n",
        "            print(\"os valores em suas ordem:\", b, c, a)\n",
        "        else:\n",
        "            print(\"os valores em suas ordem:\", a, c, b)\n",
        "else:\n",
        "    print(\"Inválida, escolha uma opção válida\")\n"
      ],
      "metadata": {
        "id": "8_Ms9BZal-9C"
      },
      "execution_count": null,
      "outputs": []
    },
    {
      "cell_type": "markdown",
      "source": [
        "29-Uma empresa decidiu conceder um aumento de salário a seus funcionários de acordo\n",
        "com a tabela: \n",
        "Faça um algoritmo que leia o salário atual de um funcionário e escreva o índice de\n",
        "aumento e o valor do salário corrigido."
      ],
      "metadata": {
        "id": "-kzbT5Dtnz9e"
      }
    },
    {
      "cell_type": "code",
      "source": [
        "salario = float(input(\"Informe seu salário: \"))\n",
        "if salario <= 400:\n",
        "  soma = salario * 0.15\n",
        "  print(\"Você teve um aumento de\",soma,\"e seu salario ficou\",salario + soma)\n",
        "elif 400 < salario <= 700:\n",
        "  somas = salario * 0.12\n",
        "  print(\"Você teve um aumento de\",somas,\"e seu salario ficou\",salario + somas)\n",
        "elif 700 < salario <= 1000:\n",
        "  soma1 = salario * 0.10\n",
        "  print(\"Você teve um aumento de\",soma1,\"e seu salario ficou\",salario + soma1)\n",
        "elif 1000 < salario <= 1500:\n",
        "  soma2 = salario * 0.07\n",
        "  print(\"Você teve um aumento de\",soma2,\"e seu salario ficou\",salario + soma2)\n",
        "elif 1500 < salario <= 2000:\n",
        "  soma3 = salario * 0.04\n",
        "  print(\"Você teve um aumento de\",soma3,\"e seu salario ficou\",salario + soma3)\n",
        "elif salario > 2000:\n",
        "  print(\"Sem aumento\")"
      ],
      "metadata": {
        "id": "aTlTEKm4oCXB"
      },
      "execution_count": null,
      "outputs": []
    },
    {
      "cell_type": "markdown",
      "source": [
        "30-Faça um algoritmo para calcular o reajuste salarial de um funcionário, de acordo com\n",
        "os critérios abaixo:"
      ],
      "metadata": {
        "id": "Xaq4D0zbvhCF"
      }
    },
    {
      "cell_type": "code",
      "source": [
        "salario = float(input(\"Informe seu salario: \"))\n",
        "if salario < 10000:\n",
        "  reajuste1 = salario * 0.55\n",
        "  print(\"Você teve um aumento de\",reajuste1,\"e seu salario ficou\",salario + reajuste1)\n",
        "elif salario > 10000 and salario < 25000:\n",
        "  reajuste2 = salario * 0.20\n",
        "  print(\"Você teve um aumento de\",reajuste2,\"e seu salario ficou\",salario + reajuste2)\n",
        "elif salario > 25000:\n",
        "  reajuste3 = salario * 0.20\n",
        "  print(\"Você teve um aumento de\",reajuste3,\"e seu salario ficou\",salario + reajuste3)"
      ],
      "metadata": {
        "id": "GYKG4Tc0vqPW"
      },
      "execution_count": null,
      "outputs": []
    },
    {
      "cell_type": "markdown",
      "source": [
        "31-Faça um algoritmo para controle de temperatura de um forno que derrete alumínio. O\n",
        "programa deverá perguntar qual a temperatura que o alumínio deverá ser trabalhado e\n",
        "operar nas seguintes condições:"
      ],
      "metadata": {
        "id": "tq1X13cHykii"
      }
    },
    {
      "cell_type": "code",
      "source": [
        "temperatura = float(input(\"Informe a temperatura que o aluminio vai ser trabalhado: \"))\n",
        "if temperatura <= 500:\n",
        "  print(\"Temperatura Inválida\")\n",
        "elif temperatura < 700:\n",
        "  print(\"Aquecimento ligado em 100%\")\n",
        "elif temperatura < 735:\n",
        "  print(\"Aquecimento ligado em 50%\")\n",
        "elif temperatura >= 735 and temperatura < 780:\n",
        "  print(\"Aquecimento Desligado\")\n",
        "elif temperatura > 780 and temperatura < 1000:\n",
        "  print(\"Superaquecimento\")"
      ],
      "metadata": {
        "id": "mSx3QU-dyuCw"
      },
      "execution_count": null,
      "outputs": []
    },
    {
      "cell_type": "markdown",
      "source": [
        "32- Faça um algoritmo que permita a entrada de um valor de 1 a 4. Em seguida, leia dois\n",
        "valores. Calcular e imprimir:"
      ],
      "metadata": {
        "id": "4XeX98Fc2Bkc"
      }
    },
    {
      "cell_type": "code",
      "source": [
        "valor1 = int(input(\"Digite um valor de 1 a 4: \"))\n",
        "if valor1 >= 5:\n",
        "  print(\"Valor errado. Programa encerrado sem cálculos\")\n",
        "else:\n",
        "  valor01 = int(input(\"Insira um valor: \"))\n",
        "  valor02 = int(input(\"Insira um segundo valor: \"))\n",
        "if valor1 == 0:\n",
        "  print(valor01 + valor02)\n",
        "elif valor1 == 1:\n",
        "  print(valor01 - valor02)\n",
        "elif valor1 == 2:\n",
        "  print(valor01 * valor02)\n",
        "elif valor1 == 3:\n",
        "  print(valor01 / valor02)\n",
        "elif valor1 == 4:\n",
        "  print(valor01 + valor02 / 2)"
      ],
      "metadata": {
        "id": "m6pB9IDd3LZ2"
      },
      "execution_count": null,
      "outputs": []
    },
    {
      "cell_type": "markdown",
      "source": [
        "33-Escrever um algoritmo que leia valores inteiros em duas variáveis distintas e se o resto\n",
        "da divisão da primeira pela segunda for 1 mostre a soma dessas variáveis mais o resto\n",
        "da divisão; se for 2 escreva se o primeiro e o segundo valor são pares ou ímpares; se\n",
        "for igual a 3 multiplique a soma dos valores lidos pelo primeiro; se for igual a 4 divida\n",
        "a soma dos números lidos pelo segundo, se este for diferente de zero. Em qualquer\n",
        "outra situação mostre o quadrado dos números lidos."
      ],
      "metadata": {
        "id": "U6eG2gC0D-6-"
      }
    },
    {
      "cell_type": "code",
      "source": [
        "variavel1 = int(input(\"Digite um valor: \"))\n",
        "variavel2 = int(input(\"Digite um segundo valor: \"))\n",
        "restodiv = variavel1 % variavel2\n",
        "if restodiv == 1:\n",
        "  print(\"A soma dessas variaveis vai dar\",variavel1 + variavel2,\"e o resto da divisão é\",restodiv)\n",
        "\n",
        "elif restodiv == 2:\n",
        "  num1 = 'par' if variavel1 % 2 == 0 else 'impar'\n",
        "  num2 = 'par' if variavel2 % 2 == 0 else 'impar'\n",
        "  print(f'O primeiro valor é {num1} e o segundo é {num2}')\n",
        "\n",
        "elif restodiv == 3:\n",
        "  soma = (variavel1 + variavel2) * variavel1\n",
        "  print(f'A multiplicaçao da soma dos valores lidos pelo primeiro é',soma)\n",
        "\n",
        "elif restodiv == 4:\n",
        "  if variavel2 != 0:\n",
        "    divisao = (variavel1 + variavel2) / variavel2\n",
        "    print(f\"A divisão da soma dos numeros lidos pelo segundo é {divisao}\")\n",
        "else:\n",
        "  quadrado1 = variavel1 ** 2\n",
        "  quadrado2 = variavel2 ** 2\n",
        "  print(f\"O quadrado do primeiro valor é {quadrado1} e o quadrado do segundo valor é {quadrado2}\")\n",
        "\n",
        "\n"
      ],
      "metadata": {
        "id": "GUz133UdEGeE"
      },
      "execution_count": null,
      "outputs": []
    },
    {
      "cell_type": "markdown",
      "source": [
        "34-Escreva um algoritmo que leia as idades de 2 homens e 2 mulheres (considere que as\n",
        "idades dos homens serão sempre diferentes, bem como as das mulheres). Calcule e\n",
        "escreva a soma das idades do homem mais velho com a mulher mais nova, e o\n",
        "produto das idades do homem mais novo com a mulher mais velha."
      ],
      "metadata": {
        "id": "nJsHxof_GrPG"
      }
    },
    {
      "cell_type": "code",
      "source": [
        "idadeh1 = int(input(\"Informe a idade do primeiro homem: \"))\n",
        "idadeh2 = int(input(\"Informe a idade do segundo homem: \"))\n",
        "\n",
        "idadem1 = int(input(\"Informe a idade da primeira mulher: \"))\n",
        "idadem2 = int(input(\"Informe a idade da segunda mulher: \"))\n",
        "if idadeh1 > idadeh2:\n",
        "  if idadem1 > idadem2:\n",
        "    soma = (idadeh1 + idadem2)\n",
        "    produto = (idadeh2 * idadem1)\n",
        "    print(f'A soma da idade do homem mais velho com a da mulher mais nova {soma}')\n",
        "    print(f'O produto da idade do homem mais novo com a mulher mais velha {produto}')\n",
        "  "
      ],
      "metadata": {
        "id": "d8HvsqQVGvLr"
      },
      "execution_count": null,
      "outputs": []
    },
    {
      "cell_type": "markdown",
      "source": [
        "35-Existem números de 4 dígitos (entre 1000 e 9999) que obedecem à seguinte\n",
        "característica: se dividirmos o número em dois números de dois dígitos, um composto\n",
        "pela dezena e pela unidade, e outro pelo milhar e pela centena, e, ao somarmos estes\n",
        "dois novos números gerando um terceiro, o quadrado deste terceiro número é\n",
        "exatamente o número original de quatro dígitos. Por exemplo:\n",
        "2025 -> dividindo: 20 e 25 -> somando temos 45 -> 452 = 2025.\n",
        "Escreva um programa para ler um número e verificar se ele obedece a esta\n",
        "característica. `(questão confusa rapazes)`"
      ],
      "metadata": {
        "id": "6uh3Tgr0LxLC"
      }
    },
    {
      "cell_type": "code",
      "source": [
        "numero = int((input(\"Digite um numero de 4 digitos: \")))\n",
        "part1 = numero // 100\n",
        "part2 = numero % 100\n",
        "soma = (part1 + part2)\n",
        "quadrado = (soma ** 2)\n",
        "if numero == quadrado:\n",
        "  print(numero,\"obedece essa caracteristica\")\n",
        "else:\n",
        "  print(numero,\"não obedece essa caracteristica\")"
      ],
      "metadata": {
        "id": "RZC4uSbcL5wQ"
      },
      "execution_count": null,
      "outputs": []
    }
  ]
}