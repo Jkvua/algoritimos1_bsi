{
  "nbformat": 4,
  "nbformat_minor": 0,
  "metadata": {
    "colab": {
      "provenance": [],
      "authorship_tag": "ABX9TyNrEW2ucRPzbhJ3BIwdmHvt",
      "include_colab_link": true
    },
    "kernelspec": {
      "name": "python3",
      "display_name": "Python 3"
    },
    "language_info": {
      "name": "python"
    }
  },
  "cells": [
    {
      "cell_type": "markdown",
      "metadata": {
        "id": "view-in-github",
        "colab_type": "text"
      },
      "source": [
        "<a href=\"https://colab.research.google.com/github/Jkvua/pythonlist/blob/main/desafio1.ipynb\" target=\"_parent\"><img src=\"https://colab.research.google.com/assets/colab-badge.svg\" alt=\"Open In Colab\"/></a>"
      ]
    },
    {
      "cell_type": "markdown",
      "source": [
        "1-"
      ],
      "metadata": {
        "id": "k93R6vwhi0dr"
      }
    },
    {
      "cell_type": "code",
      "execution_count": null,
      "metadata": {
        "id": "CKhfC_VFijFQ"
      },
      "outputs": [],
      "source": [
        "lad = int(input(\"digite o valor do lado do quadrado \"))\n",
        "area = (lad*lad)\n",
        "per = (lad*4)\n",
        "print(\"\")\n",
        "print(\"O valor da Área é de \",area)\n",
        "print(\"O valor do perimetro é de \", per)\n"
      ]
    },
    {
      "cell_type": "markdown",
      "source": [
        "2-"
      ],
      "metadata": {
        "id": "pTYWSgeclO_B"
      }
    },
    {
      "cell_type": "code",
      "source": [
        "nome = str(input(\"Digite seu nome \"))\n",
        "fil = int(input(\"Quantos filhos você tem? \"))\n",
        "print(\"\")\n",
        "print(\"Seu nome é\",nome, \"e você tem\",fil, \"filhos\")"
      ],
      "metadata": {
        "id": "mLvCbgeFlQ4Q"
      },
      "execution_count": null,
      "outputs": []
    },
    {
      "cell_type": "markdown",
      "source": [
        "3-"
      ],
      "metadata": {
        "id": "vXZyyLXCm7Lz"
      }
    },
    {
      "cell_type": "code",
      "source": [
        "base = int(input(\"Digite o valor da base do seu triângulo \" ))\n",
        "altura = int(input(\"Digite a altura do seu triângulo \"))\n",
        "peri = (2*(base + altura))\n",
        "ar = (base * altura)\n",
        "print(\"\")\n",
        "print(\"Seu perimetro é\",peri, \"e sua área é\",ar)\n"
      ],
      "metadata": {
        "id": "rGSSuokKm8LW"
      },
      "execution_count": null,
      "outputs": []
    },
    {
      "cell_type": "markdown",
      "source": [
        "4-"
      ],
      "metadata": {
        "id": "pFEPja_xpewf"
      }
    },
    {
      "cell_type": "code",
      "source": [
        "cub = int(input(\"Digite o valor do lado seu cubo \"))\n",
        "are = (6*cub**2)\n",
        "vol = (cub**3)\n",
        "print(\"\")\n",
        "print(\"Sua área é de\",are, \"e seu volume é de\",vol)"
      ],
      "metadata": {
        "id": "xkTVAuv3pfxv"
      },
      "execution_count": null,
      "outputs": []
    },
    {
      "cell_type": "markdown",
      "source": [
        "5-"
      ],
      "metadata": {
        "id": "YJQevERSrO0M"
      }
    },
    {
      "cell_type": "code",
      "source": [
        "nun1 = int(input(\"Digite um numero \"))\n",
        "nun2 = int(input(\"Digite um segundo numero \"))\n",
        "som = int(nun1 / nun2)\n",
        "resto = nun1 % nun2\n",
        "print(\"\")\n",
        "print(\"O resultado dessa equação é\",som, \"e o seu resto é\",resto )"
      ],
      "metadata": {
        "id": "xxGY_uyJrTxm"
      },
      "execution_count": null,
      "outputs": []
    },
    {
      "cell_type": "markdown",
      "source": [
        "6-"
      ],
      "metadata": {
        "id": "ifZgtPwyt3yf"
      }
    },
    {
      "cell_type": "code",
      "source": [
        "bases = int(input(\"Digite a base do seu triângulo \"))\n",
        "altura = int(input(\"Digite a altura do seu triângulo \"))\n",
        "arer = ((bases*altura)/2)\n",
        "print(\"\")\n",
        "print(\"A área do seu triangulo é de\", arer)"
      ],
      "metadata": {
        "id": "CTg1lhnqt4uQ"
      },
      "execution_count": null,
      "outputs": []
    },
    {
      "cell_type": "markdown",
      "source": [
        "7-"
      ],
      "metadata": {
        "id": "_G7GJaMjDFjn"
      }
    },
    {
      "cell_type": "code",
      "source": [
        "cir = int(input(\"Digite o valor do raio da sua circunferrencia \"))\n",
        "arar = (3.14*cir*cir)\n",
        "per = (2*3.14*cir)\n",
        "print( \"O valor da área da sua circunferrencia é de\",arar,\"e do seu perimetro é\",per)"
      ],
      "metadata": {
        "id": "i7zgXCIpDHIS"
      },
      "execution_count": null,
      "outputs": []
    }
  ]
}