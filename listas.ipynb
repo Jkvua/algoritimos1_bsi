{
  "nbformat": 4,
  "nbformat_minor": 0,
  "metadata": {
    "colab": {
      "provenance": [],
      "authorship_tag": "ABX9TyMBS56Zfr8RFAKOp7RYBfOg",
      "include_colab_link": true
    },
    "kernelspec": {
      "name": "python3",
      "display_name": "Python 3"
    },
    "language_info": {
      "name": "python"
    }
  },
  "cells": [
    {
      "cell_type": "markdown",
      "metadata": {
        "id": "view-in-github",
        "colab_type": "text"
      },
      "source": [
        "<a href=\"https://colab.research.google.com/github/Jkvua/pythonlist/blob/main/listas.ipynb\" target=\"_parent\"><img src=\"https://colab.research.google.com/assets/colab-badge.svg\" alt=\"Open In Colab\"/></a>"
      ]
    },
    {
      "cell_type": "code",
      "execution_count": null,
      "metadata": {
        "id": "4jr1BCOTWwKF"
      },
      "outputs": [],
      "source": [
        "lista = ['banana','pera', 'alface']\n",
        "lista.append('cenoura')\n",
        "lista.remove('banana') #remove um determinado item da lista\n",
        "print(lista[0]) # pega o primeiro elemento\n",
        "#print(len(lista))"
      ]
    },
    {
      "cell_type": "code",
      "source": [
        "lista = ['maça','pera','uva']\n",
        "for i in range(len(lista)):\n",
        "  print(lista[0])"
      ],
      "metadata": {
        "id": "S2fKLUf7g7lk"
      },
      "execution_count": null,
      "outputs": []
    },
    {
      "cell_type": "code",
      "source": [
        "lista = ['maça','pera','uva','banana']\n",
        "lista.sort() #coloca em ordem alfabetica\n",
        "print(lista)"
      ],
      "metadata": {
        "id": "hpPt5F2Lht_1"
      },
      "execution_count": null,
      "outputs": []
    },
    {
      "cell_type": "code",
      "source": [
        "lista = ['maça','pera','uva','banana']\n",
        "lista.reverse() #coloca de traz para frente\n",
        "print(lista)"
      ],
      "metadata": {
        "id": "7CmwqyAwiCou"
      },
      "execution_count": null,
      "outputs": []
    },
    {
      "cell_type": "markdown",
      "source": [
        "`lista do 1 a 17`"
      ],
      "metadata": {
        "id": "KcjT4Ug6uHx_"
      }
    },
    {
      "cell_type": "markdown",
      "source": [
        "`1. `Inicializar um vetor de inteiros com números de 0 a 99."
      ],
      "metadata": {
        "id": "25D27aqMm-PM"
      }
    },
    {
      "cell_type": "code",
      "source": [
        "vetor = []\n",
        "for vetor in range(100):\n",
        "  print(vetor)"
      ],
      "metadata": {
        "id": "1qEvE1vziu9a"
      },
      "execution_count": null,
      "outputs": []
    },
    {
      "cell_type": "markdown",
      "source": [
        "`2. `Escreva um algoritmo que leia um conjunto de 10 notas, armazene-as em uma variável\n",
        "composta chamada NOTA e calcule e imprima a sua média."
      ],
      "metadata": {
        "id": "nJ3XTSrvnKeP"
      }
    },
    {
      "cell_type": "code",
      "source": [
        "nota = []\n",
        "\n",
        "for i in range(10):\n",
        "  notas = float(input('Informe a sua nota:'))\n",
        "  nota.append(notas)\n",
        "\n",
        "media = sum(nota) / len(nota)\n",
        "\n",
        "print(f'sua media é {media}')"
      ],
      "metadata": {
        "id": "VJ9tWVTenODA"
      },
      "execution_count": null,
      "outputs": []
    },
    {
      "cell_type": "markdown",
      "source": [
        "`3. `Repita o algoritmo acima, porém imprima quantos valores estão acima da média."
      ],
      "metadata": {
        "id": "UaCU2tWRnOgW"
      }
    },
    {
      "cell_type": "code",
      "source": [
        "nota = []\n",
        "\n",
        "for i in range(10):\n",
        "  notas = float(input('Informe a sua nota: '))\n",
        "  nota.append(notas)\n",
        "  \n",
        "media = sum(nota) / len(nota)\n",
        "acima = sum(notas > media for notas in nota)\n",
        "\n",
        "print(f'A quantidade valores que estão acima da media é de {acima}')"
      ],
      "metadata": {
        "id": "8PSqekXznUsx"
      },
      "execution_count": null,
      "outputs": []
    },
    {
      "cell_type": "markdown",
      "source": [
        "`4. `Faça um algoritmo que leia um vetor que contém as notas de 30 alunos. Imprima o maior\n",
        "valor, o menor valor, a média da turma e a quantidade de notas abaixo da média."
      ],
      "metadata": {
        "id": "y5wX0-GinVEx"
      }
    },
    {
      "cell_type": "code",
      "source": [
        "notas = []\n",
        "for i in range(5):\n",
        "  nota = float(input('Informe a sua nota: '))\n",
        "  notas.append(nota)\n",
        "maior = max(notas)\n",
        "menor = min(notas)\n",
        "media = sum(notas) / len(notas)\n",
        "abaixo = sum(nota < media for nota in notas)  \n",
        "\n",
        "print(f'A maior nota é {maior}')\n",
        "print(f'A menor nota é {menor}')\n",
        "print(f'A média da turma é {media}')\n",
        "print(f'A quantidade de notas abaixo da média são {abaixo} ')"
      ],
      "metadata": {
        "id": "3u5lt4_znb1g"
      },
      "execution_count": null,
      "outputs": []
    },
    {
      "cell_type": "markdown",
      "source": [
        "`5. `Ler um vetor de 100 elementos numéricos e verificar se existem elementos iguais a 30. Se\n",
        "existirem, escrever as posições em que estão armazenados."
      ],
      "metadata": {
        "id": "z51zioAXATFU"
      }
    },
    {
      "cell_type": "code",
      "source": [
        "vetor = []\n",
        "for i in range(10):\n",
        "  valor = float(input('Digite um valor: '))\n",
        "  vetor.append(valor)\n",
        "for num in range(len(vetor)):\n",
        "  if vetor[num] == 30:\n",
        "      print('A posição que estes numeros estão armazenados é:',num)"
      ],
      "metadata": {
        "id": "fnKEoEhLAUoM"
      },
      "execution_count": null,
      "outputs": []
    },
    {
      "cell_type": "markdown",
      "source": [
        "`6.` Fazer um algoritmo que calcule e escreva o somatório dos valores armazenados numa variável\n",
        "composta unidimensional (vetor) A, de 100 elementos numéricos a serem lidos do dispositivo\n",
        "de entrada."
      ],
      "metadata": {
        "id": "7B5U0nzSD1Uk"
      }
    },
    {
      "cell_type": "code",
      "source": [
        "soma = []\n",
        "for _ in range(5):\n",
        "  numero = int(input(\"Digite um valor: \"))\n",
        "  soma.append(numero)\n",
        "\n",
        "print(sum(soma))"
      ],
      "metadata": {
        "id": "aBcDeddJD2WN"
      },
      "execution_count": null,
      "outputs": []
    },
    {
      "cell_type": "markdown",
      "source": [
        "`7. `Escreva um algoritmo que leia um vetor de 200 valores numéricos reais e os imprima na\n",
        "ordem contrária em que foi lida."
      ],
      "metadata": {
        "id": "4BZ_iCHyEBVK"
      }
    },
    {
      "cell_type": "code",
      "source": [
        "lista = []\n",
        "for i in range(200):\n",
        "  valor = int(input('Digite um valor: '))\n",
        "  lista.append(valor)\n",
        "print('Os valores na ordem contraria são:')\n",
        "for lista in reversed(lista):\n",
        "  print(lista)"
      ],
      "metadata": {
        "id": "uXc5GCoGEIUC"
      },
      "execution_count": null,
      "outputs": []
    },
    {
      "cell_type": "markdown",
      "source": [
        "`8. ` Escreva um algoritmo para fazer a soma de dois vetores de 10 elementos reais lidos do\n",
        "teclado. O primeiro elemento do primeiro vetor deverá ser adicionado ao primeiro elemento do\n",
        "segundo vetor e, o resultado deverá ser acumulado em um terceiro vetor também de 10\n",
        "elementos. Imprimir os três vetores conforme layout de impressão abaixo:"
      ],
      "metadata": {
        "id": "l55l66z16YZ0"
      }
    },
    {
      "cell_type": "code",
      "source": [
        "vetor1 = []\n",
        "vetor2 = []\n",
        "vetor3 = []\n",
        "for i in range(5):\n",
        "  vetor1.append(int(input(\"Informe o valor do primeiro elemento do primeiro vetor: \")))\n",
        "for i in range(5):\n",
        "  vetor2.append(int(input(\"Informe o valor do primeiro elemento do segundo vetor: \")))\n",
        "for i in range(5):\n",
        "  vet = [vetor1[i] + vetor2[i]]\n",
        "  vetor3.append(vet)\n",
        "\n",
        "print(vetor1)\n",
        "print(vetor2)\n",
        "print(vetor3)"
      ],
      "metadata": {
        "id": "pdWPUT2U6hxw"
      },
      "execution_count": null,
      "outputs": []
    },
    {
      "cell_type": "markdown",
      "source": [
        "`9. `Fazer um algoritmo que: \n",
        "\n",
        "a. Leia duas variáveis compostas unidimensionais, contendo, cada uma, 25 elementos numéricos;\n",
        "\n",
        "b. intercale os elementos desses dois conjuntos formando uma nova variável composta\n",
        "unidimensional de 50 elementos;\n",
        "\n",
        "c. Escreva o resultado obtido."
      ],
      "metadata": {
        "id": "mFLQmWiaAywt"
      }
    },
    {
      "cell_type": "code",
      "source": [
        "a = []\n",
        "b = []\n",
        "c = [0] * 10\n",
        "\n",
        "for i in range(5):\n",
        "  a.append(float(input('Digite o vetor A ')))\n",
        "print()\n",
        "for i in range(5):\n",
        "  b.append(float(input(\"Digite o vetor B \")))\n",
        "\n",
        "j = 0\n",
        "for i in range(10):\n",
        "  if i % 2 == 0:\n",
        "    c[i] = a[j]\n",
        "  else:\n",
        "    c[i] = b[j]\n",
        "    j = j + 1\n",
        "\n",
        "print('O valor de A é',a)\n",
        "print('O valor de B é',b)\n",
        "print('O valor de C é',c)"
      ],
      "metadata": {
        "id": "PvWqJq71BEaK"
      },
      "execution_count": null,
      "outputs": []
    },
    {
      "cell_type": "markdown",
      "source": [
        "10) Escreva um algoritmo que:\n",
        "\n",
        "a) leia 100 valores numéricos e os armazene numa variável composta unidimensional A;\n",
        "\n",
        "b) calcule e escreva:\n",
        "\n",
        "c) calcule e escreva quantos termos da série acima têm o numerador menor do que o\n",
        "denominador."
      ],
      "metadata": {
        "id": "a7c7iBKbhFGL"
      }
    },
    {
      "cell_type": "code",
      "source": [
        "A = []\n",
        "S = 0\n",
        "contador = 0\n",
        "\n",
        "for i in range(5):\n",
        "  A.append(int(input('Entre com A: ')))\n",
        "\n",
        "for i in range(5):\n",
        "  S = S + (i/A[i])\n",
        "\n",
        "for i in range(5):\n",
        "  if i < A[i]:\n",
        "    contador = contador + 1\n",
        "\n",
        "print('S =',S)\n",
        "print('Contador =',contador)"
      ],
      "metadata": {
        "id": "NtY30Ib5fROv"
      },
      "execution_count": null,
      "outputs": []
    },
    {
      "cell_type": "markdown",
      "source": [
        "`11. `Faça um algoritmo que leia um conjunto de 10 elementos reais e os coloque em um vetor.\n",
        "Construa um segundo vetor formado da seguinte maneira:"
      ],
      "metadata": {
        "id": "a6zowmWgDAGg"
      }
    },
    {
      "cell_type": "code",
      "source": [
        "vetor = []\n",
        "\n",
        "for _ in range(10):\n",
        "  eleme = float(input(\"Digite um número: \"))\n",
        "  vetor.append(eleme)  \n",
        "\n",
        "for num in range(4):\n",
        "  if num % 2 == 0:\n",
        "      vetor = [eleme * 3 for eleme in vetor]\n",
        "  else:\n",
        "      vetor = [eleme / 2 for eleme in vetor]\n",
        "\n",
        "print(vetor)\n",
        "\n"
      ],
      "metadata": {
        "id": "izcmajoMDF4c"
      },
      "execution_count": null,
      "outputs": []
    },
    {
      "cell_type": "markdown",
      "source": [
        "`12.` Escreva um algoritmo que:"
      ],
      "metadata": {
        "id": "R2NTCMFVvPjw"
      }
    },
    {
      "cell_type": "code",
      "source": [
        "veta = []\n",
        "S = 0\n",
        "\n",
        "for i in range(6):\n",
        "  veta.append(float(input(\"Digite um valor de entrada: \")))\n",
        "\n",
        "for i in range(5):\n",
        "  S = S + ((veta[i] - veta[5 -i] ** 2))\n",
        "\n",
        "print('S = ',S)"
      ],
      "metadata": {
        "id": "ZXLmP8yDta35"
      },
      "execution_count": null,
      "outputs": []
    },
    {
      "cell_type": "markdown",
      "source": [
        "`13.` Escreva um algoritmo que:\n",
        "\n",
        "a) leia uma frase de 50 caracteres;\n",
        "\n",
        "b) conte quantos brancos existem na frase;\n",
        "\n",
        "c) conte quantas vezes a letra “A” aparece;\n",
        "\n",
        "d) imprima o que foi calculado nos itens b e c."
      ],
      "metadata": {
        "id": "rys-dCaqdXOR"
      }
    },
    {
      "cell_type": "code",
      "source": [
        "frase = input('Escreva uma frase: ')\n",
        "\n",
        "soma = (len(frase))\n",
        "brancos = frase.count(' ')\n",
        "letras = frase.count('a')\n",
        "print(f'A sua frase tem {soma} caracteres')\n",
        "print(f'Existem {brancos} espaços em branco na frase e a letra a aparece {letras} vezes' )\n"
      ],
      "metadata": {
        "id": "mGwc6rsBdh3B"
      },
      "execution_count": null,
      "outputs": []
    },
    {
      "cell_type": "markdown",
      "source": [
        "`14.` Um armazém trabalha com 100 mercadorias diferentes identificadas pelos números inteiros de\n",
        "0 a 99. O dono do armazém anota a quantidade de cada mercadoria vendida durante o mês.\n",
        "Ele tem uma tabela mensal que indica para cada mercadoria o preço de venda. Escreva o\n",
        "algoritmo para calcular o faturamento mensal do armazém, isto é:"
      ],
      "metadata": {
        "id": "Guw5bxMHjSad"
      }
    },
    {
      "cell_type": "code",
      "source": [
        "vendida = []\n",
        "precovenda = []\n",
        "\n",
        "for i in range(5):\n",
        "  quant = int(input(\"Informe a quantidade de mercadoria: \"))\n",
        "  vendida.append(quant)\n",
        "  preco = int(input('Informe o preço da mercadoria: '))\n",
        "  precovenda.append(preco)\n",
        "\n",
        "if len(vendida) != len(precovenda):\n",
        "  print('Os vetores de quantidade de medida e preço devem ter o mesmo preço')\n",
        "  exit()\n",
        "\n",
        "mensal = 0\n",
        "\n",
        "for i in range(len(vendida)):\n",
        "  fatmercadoria = vendida[i] * precovenda[i]\n",
        "  mensal += fatmercadoria\n",
        "\n",
        "print(f'O faturamento mensal é {mensal}')\n"
      ],
      "metadata": {
        "id": "bPZ1v7r2jSHE"
      },
      "execution_count": null,
      "outputs": []
    },
    {
      "cell_type": "markdown",
      "source": [
        "`15. `Classificar um vetor numérico VET de 20 elementos em ordem crescente."
      ],
      "metadata": {
        "id": "2U97SwNok281"
      }
    },
    {
      "cell_type": "code",
      "source": [
        "VET = []\n",
        "\n",
        "for i in range(5):\n",
        "  vetor = int(input(\"Digite um valor: \"))\n",
        "  VET.append(vetor)\n",
        "\n",
        "VET.sort()\n",
        "print(VET)\n"
      ],
      "metadata": {
        "id": "1C3K2wAel1oj"
      },
      "execution_count": null,
      "outputs": []
    },
    {
      "cell_type": "markdown",
      "source": [
        "`16.` Dado um vetor de 128 elementos, verificar se existe um elemento igual a K (chave) no vetor.\n",
        "Se existir, imprimir a posição onde foi encontrada a chave; se não; imprimir a mensagem:\n",
        "“CHAVE K NÃO ENCONTRADA”. O vetor A e a chave K são lidos a partir de uma unidade de\n",
        "entrada."
      ],
      "metadata": {
        "id": "lp-SekzwjaPa"
      }
    },
    {
      "cell_type": "code",
      "source": [
        "import random\n",
        "\n",
        "vetor = []\n",
        "for i in range(10):\n",
        "   num = random.randint(1,128)\n",
        "   vetor.append(num)\n",
        "\n",
        "vetor.sort()\n",
        "print(vetor)\n",
        "\n",
        "k = int(input(\"Digite um número entre 1 e 128: \"))\n",
        "\n",
        "encontrado = False\n",
        "inicio = 0\n",
        "fim = len(vetor) -1\n",
        "\n",
        "\n",
        "for _ in range(len(vetor)):\n",
        "  meio = (inicio + fim ) // 2\n",
        "  if vetor[meio] == k:\n",
        "    encontrado = True\n",
        "    posicao = meio\n",
        "    break\n",
        "  elif vetor[meio] < k:\n",
        "    inicio = meio + 1\n",
        "  else:\n",
        "    fim = meio - 1\n",
        "\n",
        "if encontrado:\n",
        "  print(f'A chave {k} foi encontrada na posição {posicao}')\n",
        "else:\n",
        "  print('A chave não foi encontrada')\n",
        "  \n",
        "\n"
      ],
      "metadata": {
        "id": "S8hQ7jxehSXa"
      },
      "execution_count": null,
      "outputs": []
    },
    {
      "cell_type": "markdown",
      "source": [
        "`17.` Refaça o algoritmo acima otimizando-o usando uma técnica conhecida por Pesquisa Binária.\n",
        "Suponha primeiramente que o vetor já esteja ordenado. Procuramos então o elemento K\n",
        "dividindo o vetor em duas partes e testando em qual das duas partes ele deveria estar.\n",
        "Procede-se então, da mesma forma para a parte provável, e assim sucessivamente.\n",
        "Obs.: na pesquisa sequencial simples (problema 16), o número médio de comparações que\n",
        "devem ser feitas até encontrar a chave é N/2, onde N é o número de elementos do vetor. No\n",
        "nosso caso, no algoritmo 16, teríamos, em média, 128/2 = 64 comparações. Na pesquisa\n",
        "binária, o número máximo de comparações é log2N. Teríamos, então, log2128=7 comparações,\n",
        "no máximo."
      ],
      "metadata": {
        "id": "vXkOQhETkX5S"
      }
    },
    {
      "cell_type": "code",
      "source": [
        "import random\n",
        "\n",
        "vetor = []\n",
        "for i in range(10):\n",
        "   num = random.randint(1,128)\n",
        "   vetor.append(num)\n",
        "\n",
        "print(vetor)\n",
        "\n",
        "k = int(input(\"Digite um número entre 1 e 128: \"))\n",
        "\n",
        "encontrado = False\n",
        "posicao = -1\n",
        "\n",
        "for i in range(len(vetor)):\n",
        "  if vetor[i] == k:\n",
        "    encontrado = True\n",
        "    posicao = i\n",
        "    break\n",
        "\n",
        "if encontrado:\n",
        "  print(f'A chave {k} foi encontrada na posição {posicao}')\n",
        "else:\n",
        "  print('A chave não foi encontrada')\n",
        "  \n",
        "\n"
      ],
      "metadata": {
        "id": "3kSWzXV2o3WZ"
      },
      "execution_count": null,
      "outputs": []
    }
  ]
}