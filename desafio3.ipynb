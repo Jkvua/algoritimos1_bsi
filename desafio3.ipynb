{
  "nbformat": 4,
  "nbformat_minor": 0,
  "metadata": {
    "colab": {
      "provenance": [],
      "authorship_tag": "ABX9TyMtGgYmg6KjUMKYUWMzd2V3",
      "include_colab_link": true
    },
    "kernelspec": {
      "name": "python3",
      "display_name": "Python 3"
    },
    "language_info": {
      "name": "python"
    }
  },
  "cells": [
    {
      "cell_type": "markdown",
      "metadata": {
        "id": "view-in-github",
        "colab_type": "text"
      },
      "source": [
        "<a href=\"https://colab.research.google.com/github/Jkvua/pythonlist/blob/main/desafio3.ipynb\" target=\"_parent\"><img src=\"https://colab.research.google.com/assets/colab-badge.svg\" alt=\"Open In Colab\"/></a>"
      ]
    },
    {
      "cell_type": "markdown",
      "source": [
        "calcular o volume de uma lata de óleo"
      ],
      "metadata": {
        "id": "JF9pOO_RpqDY"
      }
    },
    {
      "cell_type": "code",
      "source": [
        "import math\n",
        "raio = float(input(\"Digite o valor do raio da  lata \"))\n",
        "altura = float(input(\"Digite a altura da lata \"))\n",
        "volume = (math.pi * raio ** 2 * altura) \n",
        "print(\"O volume dessa lata é de\",volume)"
      ],
      "metadata": {
        "id": "9-ekfHaEpyKK"
      },
      "execution_count": null,
      "outputs": []
    },
    {
      "cell_type": "markdown",
      "source": [
        "calcular a média do aluno"
      ],
      "metadata": {
        "id": "e14sEJFRK-Cj"
      }
    },
    {
      "cell_type": "code",
      "execution_count": null,
      "metadata": {
        "id": "NlQQVNuvK37m"
      },
      "outputs": [],
      "source": [
        "nota1 = float(input(\"Informe a sua primeira nota \"))\n",
        "nota2 = float(input(\"Informe a sua segunda nota \"))\n",
        "nota3 = float(input(\"Informe a sua terceira nota \"))\n",
        "soma = ((2*nota1 + 3*nota2 + 5*nota3)/ 10)\n",
        "print(\"Sua media final ficou\",soma)"
      ]
    },
    {
      "cell_type": "markdown",
      "source": [
        "ler as cordenadas de dois pontos"
      ],
      "metadata": {
        "id": "NAYxnEUZNNlR"
      }
    },
    {
      "cell_type": "code",
      "source": [
        "import math\n",
        "x1 = float(input(\"Digite as coordenadas do ponto x1 \"))\n",
        "x2 = float(input(\"Digite as coordenadas do ponto x2 \"))\n",
        "y1 = float(input(\"Digite as coordenadas do ponto y1 \"))\n",
        "y2 = float(input(\"Digite as coordenadas do ponto y2 \"))\n",
        "distancia = math.sqrt(((x2 - x1)**2) + (y2 - y1)**2)\n",
        "print(distancia)"
      ],
      "metadata": {
        "id": "R28pgd7TOmoo"
      },
      "execution_count": null,
      "outputs": []
    },
    {
      "cell_type": "markdown",
      "source": [
        "sistema de equações lineares da forma"
      ],
      "metadata": {
        "id": "zNzylbAVQ5ql"
      }
    },
    {
      "cell_type": "code",
      "source": [
        "import math\n",
        "a = float(input(\"Digite o valor de a \"))\n",
        "b = float(input(\"Digite o valor de b \"))\n",
        "c = float(input(\"Digite o valor de c \"))\n",
        "d = float(input(\"Digite o valor de d \"))\n",
        "e = float(input(\"Digite o valor de e \"))\n",
        "f = float(input(\"Digite o valor de f \"))\n",
        "x = ((c * e) - (b * f) / (a * e) - (b * d))\n",
        "y = ((a * f) - (c * d) / (a * e) - (b * d))\n",
        "print(\"O valor de X é\",x)\n",
        "print(\"O valor de Y é\",y)"
      ],
      "metadata": {
        "id": "lgHL1VbjSDf7"
      },
      "execution_count": null,
      "outputs": []
    },
    {
      "cell_type": "markdown",
      "source": [
        "leia a idade de uma pessoa expressa em dias e mostre-a\n",
        "expressa em anos, meses e dias"
      ],
      "metadata": {
        "id": "UMHgaTXtWdKY"
      }
    },
    {
      "cell_type": "code",
      "source": [
        "idade = int(input(\"Informe a sua idade em dias \"))\n",
        "anos = (idade // 365)\n",
        "meses = ((idade % 365) // 30)\n",
        "dias = ((idade %  365) % 30)\n",
        "print(\"Sua idade em anos\",anos,\"meses\",meses,\"e dias\",dias)"
      ],
      "metadata": {
        "id": "DFGQTDdnWNxb"
      },
      "execution_count": null,
      "outputs": []
    },
    {
      "cell_type": "markdown",
      "source": [
        "escrever um algoritmo que leia o custo de fábrica de um carro e escreva o custo ao\n",
        "consumidor"
      ],
      "metadata": {
        "id": "LtugmQO60e-N"
      }
    },
    {
      "cell_type": "code",
      "source": [
        "precofabrica = float(input(\"Digite o preço de fabrica do carro \"))\n",
        "distribuidor = (0.28 * precofabrica)\n",
        "imposto = (0.45 * precofabrica)\n",
        "precofinal = precofabrica + distribuidor + imposto\n",
        "print(\"O preço final do carro ficou\",precofinal)"
      ],
      "metadata": {
        "id": "4B77deJ01upc"
      },
      "execution_count": null,
      "outputs": []
    },
    {
      "cell_type": "markdown",
      "source": [
        "Faça um algoritmo que leia o tempo de duração de um evento em uma fábrica\n",
        "expressa em segundos e mostre-o expresso em horas, minutos e segundos"
      ],
      "metadata": {
        "id": "e_6stB_g4zK6"
      }
    },
    {
      "cell_type": "code",
      "source": [
        "duracao = float(input(\"Informe a duração do evento em segundos \"))\n",
        "horas = duracao / 3600\n",
        "resto = duracao % 3600 \n",
        "minutos = resto / 60\n",
        "segundos = resto % 60\n",
        "print(\"Horas\",horas,\"minutos\",minutos,\"segundos\",segundos)"
      ],
      "metadata": {
        "id": "87A75YHp4-Qw"
      },
      "execution_count": null,
      "outputs": []
    },
    {
      "cell_type": "markdown",
      "source": [
        "Faça um algoritmo que leia o salário bruto mensal de um funcionário, calcule e\n",
        "mostre os valores conforme modelo abaixo:"
      ],
      "metadata": {
        "id": "3fQ3C772Cbav"
      }
    },
    {
      "cell_type": "code",
      "source": [
        "ganho = float(input(\"digite quanto você ganha por mês \"))\n",
        "impostorenda = (ganho*0.15)\n",
        "inss = (ganho*0.11)\n",
        "sindicato = (ganho*0.03)\n",
        "salliq = ganho - (impostorenda + inss + sindicato)\n",
        "print(\"O valor pago ao INSS é\",inss)\n",
        "print(\"O valor pago ao sindicato\",sindicato,)\n",
        "print(\"O salário liquido ficou\",salliq)     \n",
        "print(\"O valor pago no imposto de renda\",impostorenda)     \n"
      ],
      "metadata": {
        "id": "HMfJBdXDLCPu"
      },
      "execution_count": null,
      "outputs": []
    }
  ]
}