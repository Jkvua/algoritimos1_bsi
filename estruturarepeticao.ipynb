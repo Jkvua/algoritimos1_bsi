{
  "nbformat": 4,
  "nbformat_minor": 0,
  "metadata": {
    "colab": {
      "provenance": [],
      "authorship_tag": "ABX9TyPdfwWIQNJ9tv/ikF8zftGq",
      "include_colab_link": true
    },
    "kernelspec": {
      "name": "python3",
      "display_name": "Python 3"
    },
    "language_info": {
      "name": "python"
    }
  },
  "cells": [
    {
      "cell_type": "markdown",
      "metadata": {
        "id": "view-in-github",
        "colab_type": "text"
      },
      "source": [
        "<a href=\"https://colab.research.google.com/github/Jkvua/pythonlist/blob/main/estruturarepeticao.ipynb\" target=\"_parent\"><img src=\"https://colab.research.google.com/assets/colab-badge.svg\" alt=\"Open In Colab\"/></a>"
      ]
    },
    {
      "cell_type": "markdown",
      "source": [
        "`1.`faça um algoritimo que - leia 20 números inteiros - escreva os números que sao negativos - escreva a media dos números que são posivitos"
      ],
      "metadata": {
        "id": "ppUEJ8ZgZG8I"
      }
    },
    {
      "cell_type": "code",
      "execution_count": null,
      "metadata": {
        "id": "JohfC9_PY-hb"
      },
      "outputs": [],
      "source": [
        "media = []\n",
        "for num in range(3):\n",
        "  num = int(input(\"Digite um valor: \"))\n",
        "  if num < 0:\n",
        "    print(f\"{num} é negativo\")\n",
        "  else:\n",
        "    num > 0\n",
        "    media.append(num)\n",
        "    print(f\"{num} é positivo\")\n",
        "\n",
        "print(f'A media desse valor é {sum(media)/len(media)}')"
      ]
    },
    {
      "cell_type": "markdown",
      "source": [
        "`2.` Faça um algoritmo que leia 15 números inteiros e escreva, para cada número lido, se é\n",
        "par ou ímpar."
      ],
      "metadata": {
        "id": "IBRbaw8ovNlb"
      }
    },
    {
      "cell_type": "code",
      "source": [
        "for num in range(4):\n",
        "  num = int(input('Digite um valor: '))\n",
        "  if num % 2 == 0:\n",
        "    print(f'{num} é par')\n",
        "  else:\n",
        "    print(f'{num} é impar')"
      ],
      "metadata": {
        "id": "qsjcZ9Wg1FEn"
      },
      "execution_count": null,
      "outputs": []
    },
    {
      "cell_type": "markdown",
      "source": [
        "`3. ` Dado um conjunto de valores inteiros positivos, determinar qual o menor e qual o\n",
        "maior valor do conjunto. Um número com valor “0” (zero) indica o fim dos dados e\n",
        "não deve ser considerado."
      ],
      "metadata": {
        "id": "jGPpeoE4yNLI"
      }
    },
    {
      "cell_type": "code",
      "source": [
        "valores = []\n",
        "num = int(input(\"Digite um valor ou digite zero caso deseje finalizar: \"))\n",
        "\n",
        "while num != 0:\n",
        "  valores.append(num)\n",
        "  num = int(input(\"Digite um valor ou digite zero caso deseje finalizar: \"))\n",
        "\n",
        "menor,maior = valores\n",
        "\n",
        "for num in valores:\n",
        "  if num < menor:\n",
        "    num = menor\n",
        "  if num > maior:\n",
        "    num = maior\n",
        "\n",
        "print(f'o maior valor é {maior} e o menor valor é {menor}')\n"
      ],
      "metadata": {
        "id": "riyghzKeyMcH"
      },
      "execution_count": null,
      "outputs": []
    },
    {
      "cell_type": "markdown",
      "source": [
        "`4.` Faça um algoritmo que calcule e escreva a soma dos números pares e a soma dos\n",
        "números ímpares entre 1 e 100."
      ],
      "metadata": {
        "id": "WIvc9xeBz_k9"
      }
    },
    {
      "cell_type": "code",
      "source": [
        "impar = []\n",
        "par = []\n",
        "for num in range(101):\n",
        "  if num % 2 == 0:\n",
        "    par.append(num)\n",
        "  else:\n",
        "    impar.append(num)\n",
        "\n",
        "print(f'a soma dos numeros impares é {sum(impar)} e a soma dos  numeros pares é {sum(par)}')\n"
      ],
      "metadata": {
        "id": "OStWKU4H0JIb"
      },
      "execution_count": null,
      "outputs": []
    },
    {
      "cell_type": "markdown",
      "source": [
        "`5.` Faça um algoritmo que leia a altura de 20 pessoas e calcule a média aritmética das\n",
        "alturas."
      ],
      "metadata": {
        "id": "SEyft_fg5Poz"
      }
    },
    {
      "cell_type": "code",
      "source": [
        "altura = []\n",
        "for num in range(5):\n",
        "  num = float(input(\"Informe sua altura: \"))\n",
        "  altura.append(num)\n",
        "  duas = \"{:.2f}\".format(num) #:)\n",
        "\n",
        "print(f'a media dessas alturas é {sum(altura) / len(altura)}' )"
      ],
      "metadata": {
        "id": "3zeyxoVi5Szc"
      },
      "execution_count": null,
      "outputs": []
    },
    {
      "cell_type": "markdown",
      "source": [
        "`6.`Faça um algoritmo que leia n valores inteiros e escreva quantos desses valores são\n",
        "negativos."
      ],
      "metadata": {
        "id": "WAH_wqqgMvlM"
      }
    },
    {
      "cell_type": "code",
      "source": [
        "num = int(input(\"Quantos valores você deseja ler: \"))\n",
        "valornega = 0\n",
        "for valor in range(num):\n",
        "  num = int(input(\"Digite um valor: \"))\n",
        "  if num < 0:\n",
        "    valornega += 1\n",
        "\n",
        "print(f'os numeros negativos são: {valornega}')"
      ],
      "metadata": {
        "id": "XDfBygnSMvFW"
      },
      "execution_count": null,
      "outputs": []
    },
    {
      "cell_type": "markdown",
      "source": [
        "`7. `Faça um algoritmo que leia a quantidade de tinta que uma caneta, e enquanto a\n",
        "caneta tiver tinta para escrever, escreva “Enquanto tem tinta a caneta escreve...”.\n",
        "Considere que a cada comando de escrita a caneta gasta 2% da tinta que possui."
      ],
      "metadata": {
        "id": "ncXLeFY1PTz1"
      }
    },
    {
      "cell_type": "code",
      "source": [
        "tintacaneta = int(input(\"Informe a quantidade de tinta que sua caneta possui: \"))\n",
        "while tintacaneta != 0:\n",
        "  tintacaneta += -2\n",
        "  print(f'Enquanto tem tinta a caneta escreve')"
      ],
      "metadata": {
        "id": "Cn9YjxxLPXkR"
      },
      "execution_count": null,
      "outputs": []
    },
    {
      "cell_type": "markdown",
      "source": [
        "`8. `Faça um algoritmo que leia n pares de valores, sendo o primeiro valor o número de\n",
        "inscrição do atleta e o segundo a altura (em cm) do atleta."
      ],
      "metadata": {
        "id": "Rct_hF5_Xbj1"
      }
    },
    {
      "cell_type": "code",
      "source": [
        "num = int(input(\"Digite a quantidade de atletas: \"))\n",
        "maisaltura = 0\n",
        "inscricao = 0\n",
        "maisbaixo = float('inf')\n",
        "menorinscricao = 0\n",
        "soma = 0\n",
        "\n",
        "for i in range(num):\n",
        "    inscricao1 = int(input(\"Informe o número de inscrição do atleta: \"))\n",
        "    altura = float(input(\"Informe a altura do atleta (em cm): \"))\n",
        "\n",
        "    if altura > maisaltura:\n",
        "        maisaltura = altura\n",
        "        inscricao = inscricao1\n",
        "\n",
        "    if altura < maisbaixo:\n",
        "        maisbaixo = altura\n",
        "        menorinscricao = inscricao1\n",
        "    soma += altura\n",
        "media = soma / num\n",
        "\n",
        "print(f\"O atleta mais alto: {maisaltura}\")\n",
        "print(f\"Número de inscrição:{ inscricao}\")\n",
        "print(f\"O atleta mais baixo: {maisbaixo}\")\n",
        "print(f\"Número de inscrição:{ menorinscricao}\")\n",
        "print(f\"Altura média do grupo de atletas: {media}\")\n",
        "\n"
      ],
      "metadata": {
        "id": "FA-G5crIGMHP"
      },
      "execution_count": null,
      "outputs": []
    },
    {
      "cell_type": "markdown",
      "source": [
        "`9.`Faça um algoritmo que calcule e imprima os valores de y, onde:"
      ],
      "metadata": {
        "id": "MME6_4hsNA1d"
      }
    },
    {
      "cell_type": "code",
      "source": [
        "x = 1\n",
        "while x <= 5.0:\n",
        "    y = (3 + 2 * x + 6 * x ** 2) / (1 + 9 * x + 16 * x ** 2)\n",
        "    print(f\"x = {x}, y = {y}\")\n",
        "\n",
        "    x += 0.1\n"
      ],
      "metadata": {
        "id": "uqYQlOnh6hq_"
      },
      "execution_count": null,
      "outputs": []
    },
    {
      "cell_type": "markdown",
      "source": [
        "`10.`Construir um algoritmo que calcule o fatorial de um número N."
      ],
      "metadata": {
        "id": "6Sx8LpqJmBji"
      }
    },
    {
      "cell_type": "code",
      "source": [
        "n = int(input(\"Digite um valor: \"))\n",
        "fat = 1\n",
        "i = 1\n",
        "while i <= n:\n",
        "  fat = fat * i\n",
        "  i = i +1\n",
        "  \n",
        "  print(f'o fatorial {n} é {fat}')"
      ],
      "metadata": {
        "id": "zeLAuTH0ZxX9"
      },
      "execution_count": null,
      "outputs": []
    },
    {
      "cell_type": "markdown",
      "source": [
        "`11.`Faça um algoritmo que calcule e escreva a soma da seguinte série de 100 termos:"
      ],
      "metadata": {
        "id": "nJNCRvaUMGj0"
      }
    },
    {
      "cell_type": "code",
      "source": [
        "termo = []\n",
        "for num in range(100):\n",
        "  termo.append(num)\n",
        "  print(f'A soma é {sum(termo)}')"
      ],
      "metadata": {
        "id": "ObqSTtPDkGHv"
      },
      "execution_count": null,
      "outputs": []
    },
    {
      "cell_type": "markdown",
      "source": [
        "`12.` Faça um algoritmo que calcule e escreva a soma da seguinte série de 100 termos:"
      ],
      "metadata": {
        "id": "hklXxkiRaHXP"
      }
    },
    {
      "cell_type": "code",
      "source": [
        "termo = []\n",
        "for num in range(1,101):\n",
        "    a = 1/num\n",
        "    termo.append(a)\n",
        "print(f'A soma desses termos é {sum(termo)}')\n"
      ],
      "metadata": {
        "id": "p33HXNfVaKOL"
      },
      "execution_count": null,
      "outputs": []
    },
    {
      "cell_type": "markdown",
      "source": [
        "`13. `Fazer um algoritmo para calcular o valor de S, dado por:"
      ],
      "metadata": {
        "id": "0regHHCn-04C"
      }
    },
    {
      "cell_type": "code",
      "source": [
        "N = int(input('Informe o valor de S: '))\n",
        "S = 0\n",
        "for i in range(1,N+1):\n",
        "  S += i / (N - i + 1)\n",
        "print(f'O valor de S é: {S}')\n"
      ],
      "metadata": {
        "id": "aBu3bd0V7cYw"
      },
      "execution_count": null,
      "outputs": []
    },
    {
      "cell_type": "markdown",
      "source": [
        "`14.` O valor aproximado do número p pode ser calculado usando-se a série:"
      ],
      "metadata": {
        "id": "6uUaJsU79Atl"
      }
    },
    {
      "cell_type": "code",
      "source": [
        "import math\n",
        "soma = 0\n",
        "for i in range(51):\n",
        "  demo = 2 * i + 1\n",
        "  termo = 1 / demo ** 3\n",
        "  if i % 2 == 0:\n",
        "    soma += termo\n",
        "  else:\n",
        "    soma -= termo\n",
        "valorpi = math.sqrt(soma) * 32\n",
        "print(f\"O valor de pi é: {valorpi}\") #?"
      ],
      "metadata": {
        "id": "1V5qZNLM9QR9"
      },
      "execution_count": null,
      "outputs": []
    },
    {
      "cell_type": "markdown",
      "source": [
        "`15.` Fazer um algoritmo que calcule e escreva a soma dos 20 primeiros termos da série:"
      ],
      "metadata": {
        "id": "zHLBTsJn9Ugu"
      }
    },
    {
      "cell_type": "code",
      "source": [
        "soma = 0\n",
        "for i in range(1,20):\n",
        "  nume = 100 - i\n",
        "  demo = i\n",
        "  fatorial = 1\n",
        "\n",
        "for num in range(1, demo + 1):\n",
        "  fatorial *= num\n",
        "termo = nume / fatorial\n",
        "soma += termo\n",
        "\n",
        "print(f'A soma dos 20 primeiros números é {soma}')"
      ],
      "metadata": {
        "id": "ffw0NibG9WSZ"
      },
      "execution_count": null,
      "outputs": []
    },
    {
      "cell_type": "markdown",
      "source": [
        "`16.` Fazer um algoritmo que calcule e imprima o valor de ex através da série:"
      ],
      "metadata": {
        "id": "LHFXdFes_kyy"
      }
    },
    {
      "cell_type": "code",
      "source": [
        "e = 0\n",
        "num = 0\n",
        "den = 0\n",
        "x = int(input(\"Digite um numero: \"))\n",
        "for termo in range(1,31):\n",
        "  if den == 0:\n",
        "    fat = 1\n",
        "  else:\n",
        "    fat = 1\n",
        "    for i in range(1,den + 1):\n",
        "      fat = fat + 1\n",
        "\n",
        "termo = x ** i / fat\n",
        "e += termo\n",
        "fat = 1\n",
        "\n",
        "print('O valor de x é',e)"
      ],
      "metadata": {
        "id": "4vCW2TlPxaAF"
      },
      "execution_count": null,
      "outputs": []
    },
    {
      "cell_type": "markdown",
      "source": [
        "`17. `Foi feita uma pesquisa de audiência de canal de TV em n casas de um determinado\n",
        "bairro de Joinville, em um certo dia do mês. Na pesquisa foi utilizado um coletor de\n",
        "dados portátil. Para cada casa visitada, foi fornecido o número do canal (4, 5, 9, 12) e\n",
        "o número de pessoas que estavam assistindo a TV naquele horário, considerando que\n",
        "em cada casa só existia uma televisão. Em casas onde a televisão estava desligada, foi\n",
        "registrado zero para o número do canal e para o número de pessoas. Faça um\n",
        "algoritmo que calcule e escreva, para cada emissora, o percentual de audiência."
      ],
      "metadata": {
        "id": "bwTHQRXXNJ7E"
      }
    },
    {
      "cell_type": "code",
      "source": [
        "pessoas = int(input('Informe o número de pessoas que estão assistindo: '))\n",
        "canal4 = []\n",
        "canal5 = []\n",
        "canal9 = []\n",
        "canal12 = []\n",
        "for num in range(pessoas):\n",
        "  canal = int(input(\"Qual canal fornecido esta assistindo? \"))\n",
        "  if canal == 4:\n",
        "    canal4.append(canal)\n",
        "  elif canal == 5:\n",
        "    canal5.append(canal)\n",
        "  elif canal == 9:\n",
        "    canal9.append(canal)\n",
        "  elif canal == 12:\n",
        "    canal12.append(canal)\n",
        "  else:\n",
        "    print(\"Esse canal é invalido\")\n",
        "\n",
        "print(f'A audiência do canal 4 é {len(canal4)/pessoas}')\n",
        "print(f'A audiência do canal 5 é {len(canal5)/pessoas}')\n",
        "print(f'A audiência do canal 9 é {len(canal9)/pessoas}')\n",
        "print(f'A audiência do canal 12 é {len(canal12)/pessoas}')\n"
      ],
      "metadata": {
        "id": "_0Fbyg8KNTox"
      },
      "execution_count": null,
      "outputs": []
    },
    {
      "cell_type": "markdown",
      "source": [
        "`18.`Uma companhia de teatro planeja dar uma série de espetáculos. A direção calcula que,\n",
        "a `R$` 5,00 o ingresso, serão vendidos 120 ingressos. Com a diminuição de `R$` 0,50 no\n",
        "preço dos ingressos, espera-se que haja um aumento de 26 ingressos vendidos. As\n",
        "despesas estão estipuladas em `R$` 200,00 independente do número de ingressos\n",
        "vendidos. \n",
        "\n",
        "Faça um algoritmo que escreva uma tabela contendo o preço do ingresso, o\n",
        "número de ingressos e o lucro esperado em função do preço do ingresso, fazendo-se\n",
        "variar este preço de `R$` 5,00 a `R$` 1,00 de `R$` 0,50 em `R$` 0,50. Escreva também o lucro\n",
        "máximo esperado, o preço e o número de ingressos correspondentes."
      ],
      "metadata": {
        "id": "nzIHDFs9XU0l"
      }
    },
    {
      "cell_type": "code",
      "source": [
        "precoingresso = 5\n",
        "ingresso = 120\n",
        "\n",
        "aumentoingresso = 26\n",
        "gastos = 200\n",
        "\n",
        "lucro = 0\n",
        "precomaximo = 0\n",
        "ingressomaximo = 0\n",
        "\n",
        "print('Preço do Ingresso | Número de Ingressos | Lucro Esperado')\n",
        "while precoingresso >= 1:\n",
        "  novoingresso = ingresso + (precoingresso - 5) * aumentoingresso\n",
        "\n",
        "  lucroesperado = (precoingresso * novoingresso) - gastos\n",
        "  print(\"{:.2f}                | {}                  | {:.2f}\".format(precoingresso, novoingresso, lucro)) #?\n",
        "  if lucroesperado > lucro:\n",
        "    lucro = lucroesperado\n",
        "    precomaximo = precoingresso\n",
        "    ingressomaximo = novoingresso\n",
        "\n",
        "  precoingresso -= 0.50\n",
        "\n",
        "print(f'O lucro maximo é {lucro}')\n",
        "print(f'O preço maximo do ingresso é {precomaximo}')\n",
        "print(f'O número de ingresso é {ingressomaximo}')\n",
        "\n"
      ],
      "metadata": {
        "id": "vi_EnWT2XUR6"
      },
      "execution_count": null,
      "outputs": []
    },
    {
      "cell_type": "markdown",
      "source": [
        "`19.` Faça um algoritmo que leia n números inteiros e escreva, para cada número lido, os\n",
        "divisores e quantidade de divisores.\n",
        "EXEMPLO: número lido = 12\n",
        "divisores = 1, 2, 3, 4, 6, 12\n",
        "\n",
        "quantidade divisores = 6"
      ],
      "metadata": {
        "id": "LCio0V0JZsVd"
      }
    },
    {
      "cell_type": "code",
      "source": [
        "num = int(input(\"Quantos números deseja ler: \"))\n",
        "for divi in range(num):\n",
        "  nume = int(input(\"Informe um número inteiro: \"))\n",
        "  divisores = []\n",
        "  for i in range(1, nume + 1):\n",
        "    if nume % i == 0:\n",
        "      divisores.append(i)\n",
        "  quantdivi = len(divisores)\n",
        "  print(f'Numero lido {nume}')\n",
        "  print(f'Os divisores são {divisores}')\n",
        "  print(f'A quantidade de divisores são {quantdivi}')"
      ],
      "metadata": {
        "id": "oqYVkfHeZvNT"
      },
      "execution_count": null,
      "outputs": []
    },
    {
      "cell_type": "markdown",
      "source": [
        "`20.` Uma máquina de biscoito está com problemas. Quando ligada, após 1 hora ela quebra\n",
        "1 biscoito, na segunda hora ela quebra 3 biscoitos, na hora seguinte ela quebra 3\n",
        "vezes a quantidade de biscoitos quebrados na hora anterior, e assim por diante. Faça\n",
        "um algoritmo que calcule quantos biscoitos são quebrados no final de cada dia (a\n",
        "máquina opera 16 horas por dia)."
      ],
      "metadata": {
        "id": "UpUkvVbJLU3C"
      }
    },
    {
      "cell_type": "code",
      "source": [
        "horamaquina = 16\n",
        "bisquebrado = 0\n",
        "bishora = 1\n",
        "\n",
        "for i in range(horamaquina):\n",
        "  bisquebrado += bishora  #c += a é equivalente a c = c + a\n",
        "  bishora *= 3  #c *= a é equivalente a c = c * a\n",
        "\n",
        "print(f'Os biscoitos quebrados ao final do dia são {bisquebrado}')"
      ],
      "metadata": {
        "id": "E8j9ZkXKLZz3"
      },
      "execution_count": null,
      "outputs": []
    },
    {
      "cell_type": "markdown",
      "source": [
        "`21. `Uma turma tem 50 alunos. Faça um algoritmo que:"
      ],
      "metadata": {
        "id": "cFDgjYRYh5MP"
      }
    },
    {
      "cell_type": "code",
      "source": [
        "turma = 4\n",
        "maiordezo = []\n",
        "maioida = 0\n",
        "for num in range(1,turma): #o for vai do 1 até a quantidade de alunos\n",
        "  nome = str(input(\"Informe seu nome: \"))\n",
        "  idades = int(input(\"Informe a sua idade: \"))\n",
        "  if idades == 18:\n",
        "    maiordezo.append(nome)\n",
        "  if idades >= 20:\n",
        "    maioida += 1\n",
        "\n",
        "print(f'Os alunos com dezoito anos são {maiordezo}')\n",
        "print(f'Os alunos com mais de vinte anos são {maioida}')\n",
        "  "
      ],
      "metadata": {
        "id": "0KNphT-Bh6zD"
      },
      "execution_count": null,
      "outputs": []
    },
    {
      "cell_type": "markdown",
      "source": [
        "`22.` Faça um algoritmo que:"
      ],
      "metadata": {
        "id": "rc-batNGULrh"
      }
    },
    {
      "cell_type": "code",
      "source": [
        "quantpe = int(input('Quantas pessoas deseja ler: '))\n",
        "mediamulher = []\n",
        "mediaturma = []\n",
        "for num in range(quantpe):\n",
        "  alt = float(input('Qual a sua altura: '))\n",
        "  se = input('Qual o seu sexo: ')\n",
        "  if se == 'F' or 'f':\n",
        "    mediamulher.append(alt)\n",
        "  mediaturma.append(alt)\n",
        "print(f'A media das alturas das mulheres são {sum(mediamulher)/len(mediamulher)}')\n",
        "print(f'A media de altura da turma é {sum(mediaturma)/len(mediaturma)}')\n"
      ],
      "metadata": {
        "id": "1y7FUJJQUuLp"
      },
      "execution_count": null,
      "outputs": []
    },
    {
      "cell_type": "markdown",
      "source": [
        "`23.` Uma loja de departamentos oferece para seus clientes um determinado desconto de\n",
        "acordo com o valor da compra efetuada. O desconto é de 20% caso o valor da compra\n",
        "seja maior que R$ 500,00 e de 15% caso seja menor ou igual. Faça um algoritmo que\n",
        "leia, para cada cliente, nome, endereço e valor da compra e escreva o total a pagar.\n",
        "Um nome de cliente igual a ULTIMO indica o fim da entrada de dados."
      ],
      "metadata": {
        "id": "GdHbrLiAfUh5"
      }
    },
    {
      "cell_type": "code",
      "source": [
        "nome = None\n",
        "while nome != 'ULTIMO':\n",
        "  nome = input(\"Informe o nome do cliente: \")\n",
        "  end = input(\"Informe seu endereço: \")\n",
        "  compra = float(input('Qual o valor da compra: '))\n",
        "  if compra > 500:\n",
        "     desconto = (compra * 0.20)\n",
        "     descontof = (compra - desconto)\n",
        "  else:\n",
        "    desconto = (compra * 0.15)\n",
        "    descontof = (compra - desconto)\n",
        "  print(f'O nome do cliente é {nome}')\n",
        "  print(f'O endereço do cliente é {end}')\n",
        "  print(f'O valor final a pagar é {descontof}')"
      ],
      "metadata": {
        "id": "7jR08GXgfbfc"
      },
      "execution_count": null,
      "outputs": []
    },
    {
      "cell_type": "markdown",
      "source": [
        "`24.` Faça um algoritmo que leia valores, sendo que cada valor representa a idade de uma\n",
        "pessoa. Calcule e escreva a idade média do grupo de pessoas. Só devem ser\n",
        "computados no cálculo valores maiores do que zero. O algoritmo deve apresentar ao\n",
        "usuário a seguinte mensagem:\n",
        "deseja digitar mais um valor: s (SIM) / n (NAO)?,\n",
        "antes de prosseguir com a entrada de dados."
      ],
      "metadata": {
        "id": "eNPdpnA82IaH"
      }
    },
    {
      "cell_type": "code",
      "source": [
        "idade = []\n",
        "while True:\n",
        "  valor = int(input('Digite um valor: '))\n",
        "  if valor > 0:\n",
        "    idade.append(valor)\n",
        "  else:\n",
        "    print('OPA! AÍ NÃO')\n",
        "  cont = input(\"Deseja digitar mais um valor: s(SIM) / n(NÃO): \")\n",
        "  if cont == 'n':\n",
        "    break\n",
        "\n",
        "print(f'A média de idade do grupo é {sum(idade)/(len(idade))}')"
      ],
      "metadata": {
        "id": "3mY-nzyy2PO5"
      },
      "execution_count": null,
      "outputs": []
    },
    {
      "cell_type": "markdown",
      "source": [
        "`25. `Um hotel cobra R$ 50,00 de diária por hóspede e mais uma taxa de serviços. A taxa de\n",
        "serviços é de:\n",
        "\n",
        "`•` 7,50 por diária, caso o número de diárias seja menor que 15;\n",
        "\n",
        "`•` 6,50 por diária, caso o número de diárias seja igual a 15;\n",
        "\n",
        "`• `5,00 por diária, caso o número de diárias seja maior que 15."
      ],
      "metadata": {
        "id": "OvsCV_PG-Ehn"
      }
    },
    {
      "cell_type": "code",
      "source": [
        "contas = 0\n",
        "\n",
        "while True:\n",
        "  recep = int(input('Escolha um entre as opções: 1 - encerrar a conta do hóspede 2 - verificar o número de contas encerradas 3 - finalizar a execução'))\n",
        "  if recep == 1:\n",
        "    diaria = int(input('Qual o valor da diaria: '))\n",
        "    if diaria < 15:\n",
        "      taxa = 7.50\n",
        "    elif diaria == 15:\n",
        "      taxa = 6.50\n",
        "    elif diaria > 15:\n",
        "      taxa = 5.00\n",
        "    \n",
        "    valordiaria = 50\n",
        "    tudo = valordiaria * diaria * taxa\n",
        "    print(f'O valor da conta ficou {tudo}')\n",
        "    contas +=  1\n",
        "  elif recep == 2:\n",
        "    print(f'O número de contas é: {contas}')\n",
        "  elif recep == 3:\n",
        "    print('Finalizando execução ')\n",
        "    break"
      ],
      "metadata": {
        "id": "yalinYLkvkAY"
      },
      "execution_count": null,
      "outputs": []
    },
    {
      "cell_type": "markdown",
      "source": [
        "`26. `Um determinado material radioativo perde metade de sua massa a cada 50 segundos.\n",
        "Dada a sua massa inicial em Kg, faça um algoritmo que determine o tempo necessário\n",
        "para que essa massa se torne menor que 0,5 gramas. Escreva a massa inicial, a massa\n",
        "final e o tempo."
      ],
      "metadata": {
        "id": "zhxEahBl37hQ"
      }
    },
    {
      "cell_type": "code",
      "source": [
        "massainicial = float(input(\"Informe a sua massa inicial em Kg: \"))\n",
        "massagramas = 0.5\n",
        "conversao = massagramas / 1000\n",
        "temp = 0\n",
        "\n",
        "while massainicial >= conversao:\n",
        "  massainicial = massainicial / 2\n",
        "  temp = temp + 50\n",
        "\n",
        "print(f'A massa inicial é: {massainicial}')\n",
        "print(f'A massa final é: {massagramas}')\n",
        "print(f'E o tempo é: {temp}')"
      ],
      "metadata": {
        "id": "ssDv-TGl37BV"
      },
      "execution_count": null,
      "outputs": []
    },
    {
      "cell_type": "markdown",
      "source": [
        "`27.` Um motorista acaba de voltar de um feriado prolongado. Antes de sair de viagem e\n",
        "imediatamente após retornar, o motorista encheu o tanque do veículo e registrou as\n",
        "medidas do odômetro. Em cada parada feita durante a viagem, foi registrado o valor\n",
        "do odômetro e a quantidade de combustível comprado para reabastecer o veículo\n",
        "(suponha que o tanque ficou vazio e foi enchido a cada parada). Faça um algoritmo\n",
        "que leia o número total de reabastecimentos feitos (incluindo o primeiro) e os dados\n",
        "registrados relativos à compra de combustível. Calcule e escreva:\n",
        "\n",
        "a) a quilometragem obtida por litro de combustível entre cada par de paradas\n",
        "\n",
        "b) a quilometragem média obtida por litro de combustível em toda a viagem."
      ],
      "metadata": {
        "id": "2YDEtq8ffJfw"
      }
    },
    {
      "cell_type": "code",
      "source": [
        "reabastecimentototal = int(input(\"Informe o número de reabastecimentos feitos durante a viagem: \"))\n",
        "\n",
        "odometroinicial = float(input(\"Informe o valor do odômetro ao sair: (km)\"))\n",
        "odometroat = odometroinicial\n",
        "combustivel = 0\n",
        "\n",
        "rodado = 0\n",
        "\n",
        "for i in range(reabastecimentototal):\n",
        "    parada = float(input(\"Informe o valor do odômetro na parada: \"))\n",
        "    combustivelparada = float(input(\"Informe a quantidade de combustivel colocado em litros: \"))\n",
        "\n",
        "    quiloparada = parada - odometroat\n",
        "    quilolitro = quiloparada / combustivelparada\n",
        "\n",
        "    rodado += quilolitro\n",
        "    odometroinicial = parada \n",
        "    combustivel += combustivelparada\n",
        "\n",
        "rodado /= reabastecimentototal\n",
        "\n",
        "print(f'A quilometragem obtida por litro de combustibel entre cada par de parada:')\n",
        "\n",
        "for i in range(1,reabastecimentototal):\n",
        "  quiloparada = parada - odometroinicial\n",
        "  quilolitro = quiloparada / combustivel\n",
        "  print(f'Parada por km/l: {i,quilolitro}')\n",
        "\n",
        "print(f'A quilometragem obtida por litro ao final da viagem foi: {rodado}')\n"
      ],
      "metadata": {
        "id": "YE6VybjTe9DS"
      },
      "execution_count": null,
      "outputs": []
    },
    {
      "cell_type": "markdown",
      "source": [
        "`28.` Em uma disputa de pingue-pongue os pontos são anotados como D, ponto para o\n",
        "jogador do lado direito, e E, ponto para o jogador do lado esquerdo da mesa. Faça um\n",
        "algoritmo que leia o código do ponto de cada jogada e determine o vencedor. A\n",
        "partida encerra quando:\n",
        "\n",
        "a) um dos jogadores chegar a 21 pontos e a diferença de pontos entre os jogadores for\n",
        "maior ou igual a dois;\n",
        "\n",
        "b) o jogador com mais de 21 pontos conseguir uma diferença de dois pontos sobre o\n",
        "adversário, caso a primeira condição não seja atendida."
      ],
      "metadata": {
        "id": "4NtxR1DDCCpI"
      }
    },
    {
      "cell_type": "code",
      "source": [
        "pontosdireito = 0\n",
        "pontosesquerdo = 0\n",
        "\n",
        "while True:\n",
        "    ponto = input(\"Digite o código do ponto (D para o jogador direito, E para o jogador esquerdo): \")\n",
        "\n",
        "    if ponto == \"D\":\n",
        "        pontosdireito += 1\n",
        "    elif ponto == \"E\":\n",
        "        pontosesquerdo += 1\n",
        "    else:\n",
        "        print(\"Código inválido. Digite apenas D ou E.\")\n",
        "        continue\n",
        "\n",
        "    diferencapontos = abs(pontosdireito - pontosesquerdo)\n",
        "\n",
        "    if (pontosdireito >= 21 or pontosesquerdo >= 21) and diferencapontos >= 2:\n",
        "        break\n",
        "\n",
        "    if (pontosdireito > 21 or pontosesquerdo > 21) and diferencapontos >= 2:\n",
        "        break\n",
        "\n",
        "if pontosdireito > pontosesquerdo:\n",
        "    vencedor = \"Jogador Direito\"\n",
        "else:\n",
        "    vencedor = \"Jogador Esquerdo\"\n",
        "\n",
        "print(\"O vencedor é:\", vencedor)\n"
      ],
      "metadata": {
        "id": "Puub5UjFCMbX"
      },
      "execution_count": null,
      "outputs": []
    },
    {
      "cell_type": "markdown",
      "source": [
        "`29.` Os regulamentos de uma competição de pesca impõem um limite no peso total de\n",
        "pesca de um dia. Faça um algoritmo que leia o limite diário (em quilogramas) e então\n",
        "leia o peso (em gramas) de cada peixe e escreva o peso total da pesca obtido até\n",
        "aquele ponto. Quando o limite diário for excedido escreva uma mensagem e encerre a\n",
        "execução do algoritmo. O algoritmo deve ainda apresentar ao usuário a seguinte\n",
        "mensagem: informar o peso de mais um peixe: s (SIM) / n (NÃO)? antes de prosseguir\n",
        "com a entrada de dados."
      ],
      "metadata": {
        "id": "idqsmfoRAwJf"
      }
    },
    {
      "cell_type": "code",
      "source": [
        "\n",
        "limite = float(input('Informe o limite diario em(quilogramas): '))\n",
        "pesofinal = 0\n",
        "while True:\n",
        "    peixes = float(input(\"Informe o peso do seu peixe em gramas: \"))\n",
        "    pesofinal = peixes / 1000\n",
        "    \n",
        "    if pesofinal > limite:\n",
        "      print('Limite excedido')\n",
        "      break\n",
        "\n",
        "    maispeixe = input('Informar o peso de mais um peixe: s(SIM)/n(NÃO): ')\n",
        "\n",
        "    if maispeixe != 's':\n",
        "        break\n",
        "\n",
        "print(f'O peso limite é {limite}')\n",
        "print(f'O peso total da pesca é {pesofinal}')"
      ],
      "metadata": {
        "id": "Tq1_lot75nST"
      },
      "execution_count": null,
      "outputs": []
    },
    {
      "cell_type": "markdown",
      "source": [
        "`30.` Foi feita uma pesquisa do consumo mensal de energia elétrica em uma determinada\n",
        "cidade. Para cada consumidor, são fornecidos os seguintes dados: número de\n",
        "identificação do consumidor, quantidade de kWh consumidos durante o mês, código\n",
        "do tipo de consumidor (R - residencial, C - comercial, I - industrial). Faça um algoritmo\n",
        "que:\n",
        "\n",
        "a) leia o preço do kWh por tipo de consumidor;\n",
        "\n",
        "b) leia os dados de n consumidores;\n",
        "\n",
        "c) escreva o número de identificação e o total a pagar, para cada consumidor;\n",
        "\n",
        "d) escreva a quantidade total de KWh consumida para cada um dos três tipos de\n",
        "consumidores;\n",
        "\n",
        "e) escreva a quantidade média geral de consumo."
      ],
      "metadata": {
        "id": "TqNwwypoEwng"
      }
    },
    {
      "cell_type": "code",
      "source": [
        "precoresidencial = float(input(\"Informe o preço do kWh para os consumidores residenciais: \"))\n",
        "precocomercial = float(input(\"Informe o preço do kWh para os consumidores comerciais: \"))\n",
        "precoindustrial = float(input(\"Informe o preço do kWh para os consumidores industriais: \"))\n",
        "kwhresidencial = 0\n",
        "kwhcomercial = 0\n",
        "kwhindustrial = 0\n",
        "consumidoresresidencial = 0\n",
        "consumidorescomercial = 0\n",
        "consumidoresindustrial = 0\n",
        "somakwh = 0\n",
        "\n",
        "\n",
        "num = int(input(\"Informe o número de consumidores: \"))\n",
        "\n",
        "for i in range(num):\n",
        "    numeroidentificacao = int(input(\"Informe o número de identificação do consumidor: \"))\n",
        "    quantidadekwh = float(input(\"Digite a quantidade de kWh consumidos durante o mês: \"))\n",
        "    tipoconsumidor = input(\"Digite o código do tipo de consumidor R - residencial, C - comercial, I - industrial: \")\n",
        "    \n",
        "    if tipoconsumidor == 'R':\n",
        "        totalpagar = quantidadekwh * precoresidencial\n",
        "        kwhresidencial += quantidadekwh\n",
        "        consumidoresresidencial += 1\n",
        "    elif tipoconsumidor == 'C':\n",
        "        totalpagar = quantidadekwh * precocomercial\n",
        "        kwhcomercial += quantidadekwh\n",
        "        consumidorescomercial += 1\n",
        "    elif tipoconsumidor == 'I':\n",
        "        totalpagar = quantidadekwh * precoindustrial\n",
        "        kwhindustrial += quantidadekwh\n",
        "        consumidoresindustrial += 1\n",
        "    somakwh += quantidadekwh\n",
        "    print(f\"Consumidor:{numeroidentificacao}\" )\n",
        "    print(f\"Total a pagar:{totalpagar}\" )\n",
        "\n",
        "print(\"Quantidade final de kWh consumidos por tipo de consumidor:\")\n",
        "print(f\"Residencial:{kwhresidencial}\")\n",
        "print(f\"Comercial:{kwhcomercial}\")\n",
        "print(f\"Industrial{kwhindustrial}:\" )\n",
        "\n",
        "mediageral = somakwh / n\n",
        "print(\"A quantidade média geral de consumo:\", mediageral)\n"
      ],
      "metadata": {
        "id": "sodJ6Cf_H_QR"
      },
      "execution_count": null,
      "outputs": []
    }
  ]
}